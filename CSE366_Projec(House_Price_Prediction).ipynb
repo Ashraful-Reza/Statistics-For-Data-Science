{
  "cells": [
    {
      "cell_type": "code",
      "execution_count": 597,
      "metadata": {
        "id": "0Znij0UnYeWO"
      },
      "outputs": [],
      "source": [
        "import numpy as np\n",
        "import pandas as pd\n",
        "import matplotlib.pyplot as plt\n",
        "import warnings\n",
        "warnings.filterwarnings(\"ignore\")\n",
        "from sklearn.model_selection import train_test_split, cross_val_score\n",
        "from sklearn.preprocessing import StandardScaler\n",
        "from sklearn.metrics import r2_score, mean_absolute_error, mean_squared_error\n",
        "from sklearn.linear_model import LinearRegression\n",
        "from sklearn.linear_model import Ridge\n",
        "from sklearn.linear_model import Lasso\n",
        "from sklearn.linear_model import ElasticNet\n",
        "from sklearn.metrics import confusion_matrix, accuracy_score,classification_report\n",
        "from sklearn.preprocessing import PolynomialFeatures\n",
        "from sklearn.pipeline import Pipeline\n",
        "from sklearn.ensemble import RandomForestRegressor\n",
        "import seaborn as sns\n",
        "from sklearn.model_selection import GridSearchCV\n",
        "from sklearn.linear_model import LogisticRegression\n",
        "from sklearn.svm import SVC\n",
        "from sklearn.tree import DecisionTreeClassifier\n",
        "from sklearn.ensemble import RandomForestClassifier\n",
        "from sklearn.metrics import accuracy_score,classification_report\n",
        "from sklearn import metrics\n",
        "from mlxtend.plotting import plot_confusion_matrix"
      ]
    },
    {
      "cell_type": "markdown",
      "source": [
        "Input DataSet"
      ],
      "metadata": {
        "id": "BjS5wPs55DrN"
      }
    },
    {
      "cell_type": "code",
      "execution_count": 598,
      "metadata": {
        "id": "l5gHtJ8ujzfH"
      },
      "outputs": [],
      "source": [
        "df = pd.read_csv(\"train.csv\")"
      ]
    },
    {
      "cell_type": "code",
      "execution_count": 599,
      "metadata": {
        "colab": {
          "base_uri": "https://localhost:8080/",
          "height": 456
        },
        "id": "xM-ZDoZNkKPh",
        "outputId": "613116b7-3e4b-4ebf-9158-05a9dda74215"
      },
      "outputs": [
        {
          "output_type": "execute_result",
          "data": {
            "text/plain": [
              "   Id  MSSubClass MSZoning  LotFrontage  LotArea Street Alley LotShape  \\\n",
              "0   1          60       RL         65.0     8450   Pave   NaN      Reg   \n",
              "1   2          20       RL         80.0     9600   Pave   NaN      Reg   \n",
              "2   3          60       RL         68.0    11250   Pave   NaN      IR1   \n",
              "3   4          70       RL         60.0     9550   Pave   NaN      IR1   \n",
              "4   5          60       RL         84.0    14260   Pave   NaN      IR1   \n",
              "5   6          50       RL         85.0    14115   Pave   NaN      IR1   \n",
              "6   7          20       RL         75.0    10084   Pave   NaN      Reg   \n",
              "7   8          60       RL          NaN    10382   Pave   NaN      IR1   \n",
              "8   9          50       RM         51.0     6120   Pave   NaN      Reg   \n",
              "9  10         190       RL         50.0     7420   Pave   NaN      Reg   \n",
              "\n",
              "  LandContour Utilities  ... PoolArea PoolQC  Fence MiscFeature MiscVal  \\\n",
              "0         Lvl    AllPub  ...        0    NaN    NaN         NaN       0   \n",
              "1         Lvl    AllPub  ...        0    NaN    NaN         NaN       0   \n",
              "2         Lvl    AllPub  ...        0    NaN    NaN         NaN       0   \n",
              "3         Lvl    AllPub  ...        0    NaN    NaN         NaN       0   \n",
              "4         Lvl    AllPub  ...        0    NaN    NaN         NaN       0   \n",
              "5         Lvl    AllPub  ...        0    NaN  MnPrv        Shed     700   \n",
              "6         Lvl    AllPub  ...        0    NaN    NaN         NaN       0   \n",
              "7         Lvl    AllPub  ...        0    NaN    NaN        Shed     350   \n",
              "8         Lvl    AllPub  ...        0    NaN    NaN         NaN       0   \n",
              "9         Lvl    AllPub  ...        0    NaN    NaN         NaN       0   \n",
              "\n",
              "  MoSold YrSold  SaleType  SaleCondition  SalePrice  \n",
              "0      2   2008        WD         Normal     208500  \n",
              "1      5   2007        WD         Normal     181500  \n",
              "2      9   2008        WD         Normal     223500  \n",
              "3      2   2006        WD        Abnorml     140000  \n",
              "4     12   2008        WD         Normal     250000  \n",
              "5     10   2009        WD         Normal     143000  \n",
              "6      8   2007        WD         Normal     307000  \n",
              "7     11   2009        WD         Normal     200000  \n",
              "8      4   2008        WD        Abnorml     129900  \n",
              "9      1   2008        WD         Normal     118000  \n",
              "\n",
              "[10 rows x 81 columns]"
            ],
            "text/html": [
              "\n",
              "  <div id=\"df-1db3c794-bc38-4a62-9347-8c26a72187d8\">\n",
              "    <div class=\"colab-df-container\">\n",
              "      <div>\n",
              "<style scoped>\n",
              "    .dataframe tbody tr th:only-of-type {\n",
              "        vertical-align: middle;\n",
              "    }\n",
              "\n",
              "    .dataframe tbody tr th {\n",
              "        vertical-align: top;\n",
              "    }\n",
              "\n",
              "    .dataframe thead th {\n",
              "        text-align: right;\n",
              "    }\n",
              "</style>\n",
              "<table border=\"1\" class=\"dataframe\">\n",
              "  <thead>\n",
              "    <tr style=\"text-align: right;\">\n",
              "      <th></th>\n",
              "      <th>Id</th>\n",
              "      <th>MSSubClass</th>\n",
              "      <th>MSZoning</th>\n",
              "      <th>LotFrontage</th>\n",
              "      <th>LotArea</th>\n",
              "      <th>Street</th>\n",
              "      <th>Alley</th>\n",
              "      <th>LotShape</th>\n",
              "      <th>LandContour</th>\n",
              "      <th>Utilities</th>\n",
              "      <th>...</th>\n",
              "      <th>PoolArea</th>\n",
              "      <th>PoolQC</th>\n",
              "      <th>Fence</th>\n",
              "      <th>MiscFeature</th>\n",
              "      <th>MiscVal</th>\n",
              "      <th>MoSold</th>\n",
              "      <th>YrSold</th>\n",
              "      <th>SaleType</th>\n",
              "      <th>SaleCondition</th>\n",
              "      <th>SalePrice</th>\n",
              "    </tr>\n",
              "  </thead>\n",
              "  <tbody>\n",
              "    <tr>\n",
              "      <th>0</th>\n",
              "      <td>1</td>\n",
              "      <td>60</td>\n",
              "      <td>RL</td>\n",
              "      <td>65.0</td>\n",
              "      <td>8450</td>\n",
              "      <td>Pave</td>\n",
              "      <td>NaN</td>\n",
              "      <td>Reg</td>\n",
              "      <td>Lvl</td>\n",
              "      <td>AllPub</td>\n",
              "      <td>...</td>\n",
              "      <td>0</td>\n",
              "      <td>NaN</td>\n",
              "      <td>NaN</td>\n",
              "      <td>NaN</td>\n",
              "      <td>0</td>\n",
              "      <td>2</td>\n",
              "      <td>2008</td>\n",
              "      <td>WD</td>\n",
              "      <td>Normal</td>\n",
              "      <td>208500</td>\n",
              "    </tr>\n",
              "    <tr>\n",
              "      <th>1</th>\n",
              "      <td>2</td>\n",
              "      <td>20</td>\n",
              "      <td>RL</td>\n",
              "      <td>80.0</td>\n",
              "      <td>9600</td>\n",
              "      <td>Pave</td>\n",
              "      <td>NaN</td>\n",
              "      <td>Reg</td>\n",
              "      <td>Lvl</td>\n",
              "      <td>AllPub</td>\n",
              "      <td>...</td>\n",
              "      <td>0</td>\n",
              "      <td>NaN</td>\n",
              "      <td>NaN</td>\n",
              "      <td>NaN</td>\n",
              "      <td>0</td>\n",
              "      <td>5</td>\n",
              "      <td>2007</td>\n",
              "      <td>WD</td>\n",
              "      <td>Normal</td>\n",
              "      <td>181500</td>\n",
              "    </tr>\n",
              "    <tr>\n",
              "      <th>2</th>\n",
              "      <td>3</td>\n",
              "      <td>60</td>\n",
              "      <td>RL</td>\n",
              "      <td>68.0</td>\n",
              "      <td>11250</td>\n",
              "      <td>Pave</td>\n",
              "      <td>NaN</td>\n",
              "      <td>IR1</td>\n",
              "      <td>Lvl</td>\n",
              "      <td>AllPub</td>\n",
              "      <td>...</td>\n",
              "      <td>0</td>\n",
              "      <td>NaN</td>\n",
              "      <td>NaN</td>\n",
              "      <td>NaN</td>\n",
              "      <td>0</td>\n",
              "      <td>9</td>\n",
              "      <td>2008</td>\n",
              "      <td>WD</td>\n",
              "      <td>Normal</td>\n",
              "      <td>223500</td>\n",
              "    </tr>\n",
              "    <tr>\n",
              "      <th>3</th>\n",
              "      <td>4</td>\n",
              "      <td>70</td>\n",
              "      <td>RL</td>\n",
              "      <td>60.0</td>\n",
              "      <td>9550</td>\n",
              "      <td>Pave</td>\n",
              "      <td>NaN</td>\n",
              "      <td>IR1</td>\n",
              "      <td>Lvl</td>\n",
              "      <td>AllPub</td>\n",
              "      <td>...</td>\n",
              "      <td>0</td>\n",
              "      <td>NaN</td>\n",
              "      <td>NaN</td>\n",
              "      <td>NaN</td>\n",
              "      <td>0</td>\n",
              "      <td>2</td>\n",
              "      <td>2006</td>\n",
              "      <td>WD</td>\n",
              "      <td>Abnorml</td>\n",
              "      <td>140000</td>\n",
              "    </tr>\n",
              "    <tr>\n",
              "      <th>4</th>\n",
              "      <td>5</td>\n",
              "      <td>60</td>\n",
              "      <td>RL</td>\n",
              "      <td>84.0</td>\n",
              "      <td>14260</td>\n",
              "      <td>Pave</td>\n",
              "      <td>NaN</td>\n",
              "      <td>IR1</td>\n",
              "      <td>Lvl</td>\n",
              "      <td>AllPub</td>\n",
              "      <td>...</td>\n",
              "      <td>0</td>\n",
              "      <td>NaN</td>\n",
              "      <td>NaN</td>\n",
              "      <td>NaN</td>\n",
              "      <td>0</td>\n",
              "      <td>12</td>\n",
              "      <td>2008</td>\n",
              "      <td>WD</td>\n",
              "      <td>Normal</td>\n",
              "      <td>250000</td>\n",
              "    </tr>\n",
              "    <tr>\n",
              "      <th>5</th>\n",
              "      <td>6</td>\n",
              "      <td>50</td>\n",
              "      <td>RL</td>\n",
              "      <td>85.0</td>\n",
              "      <td>14115</td>\n",
              "      <td>Pave</td>\n",
              "      <td>NaN</td>\n",
              "      <td>IR1</td>\n",
              "      <td>Lvl</td>\n",
              "      <td>AllPub</td>\n",
              "      <td>...</td>\n",
              "      <td>0</td>\n",
              "      <td>NaN</td>\n",
              "      <td>MnPrv</td>\n",
              "      <td>Shed</td>\n",
              "      <td>700</td>\n",
              "      <td>10</td>\n",
              "      <td>2009</td>\n",
              "      <td>WD</td>\n",
              "      <td>Normal</td>\n",
              "      <td>143000</td>\n",
              "    </tr>\n",
              "    <tr>\n",
              "      <th>6</th>\n",
              "      <td>7</td>\n",
              "      <td>20</td>\n",
              "      <td>RL</td>\n",
              "      <td>75.0</td>\n",
              "      <td>10084</td>\n",
              "      <td>Pave</td>\n",
              "      <td>NaN</td>\n",
              "      <td>Reg</td>\n",
              "      <td>Lvl</td>\n",
              "      <td>AllPub</td>\n",
              "      <td>...</td>\n",
              "      <td>0</td>\n",
              "      <td>NaN</td>\n",
              "      <td>NaN</td>\n",
              "      <td>NaN</td>\n",
              "      <td>0</td>\n",
              "      <td>8</td>\n",
              "      <td>2007</td>\n",
              "      <td>WD</td>\n",
              "      <td>Normal</td>\n",
              "      <td>307000</td>\n",
              "    </tr>\n",
              "    <tr>\n",
              "      <th>7</th>\n",
              "      <td>8</td>\n",
              "      <td>60</td>\n",
              "      <td>RL</td>\n",
              "      <td>NaN</td>\n",
              "      <td>10382</td>\n",
              "      <td>Pave</td>\n",
              "      <td>NaN</td>\n",
              "      <td>IR1</td>\n",
              "      <td>Lvl</td>\n",
              "      <td>AllPub</td>\n",
              "      <td>...</td>\n",
              "      <td>0</td>\n",
              "      <td>NaN</td>\n",
              "      <td>NaN</td>\n",
              "      <td>Shed</td>\n",
              "      <td>350</td>\n",
              "      <td>11</td>\n",
              "      <td>2009</td>\n",
              "      <td>WD</td>\n",
              "      <td>Normal</td>\n",
              "      <td>200000</td>\n",
              "    </tr>\n",
              "    <tr>\n",
              "      <th>8</th>\n",
              "      <td>9</td>\n",
              "      <td>50</td>\n",
              "      <td>RM</td>\n",
              "      <td>51.0</td>\n",
              "      <td>6120</td>\n",
              "      <td>Pave</td>\n",
              "      <td>NaN</td>\n",
              "      <td>Reg</td>\n",
              "      <td>Lvl</td>\n",
              "      <td>AllPub</td>\n",
              "      <td>...</td>\n",
              "      <td>0</td>\n",
              "      <td>NaN</td>\n",
              "      <td>NaN</td>\n",
              "      <td>NaN</td>\n",
              "      <td>0</td>\n",
              "      <td>4</td>\n",
              "      <td>2008</td>\n",
              "      <td>WD</td>\n",
              "      <td>Abnorml</td>\n",
              "      <td>129900</td>\n",
              "    </tr>\n",
              "    <tr>\n",
              "      <th>9</th>\n",
              "      <td>10</td>\n",
              "      <td>190</td>\n",
              "      <td>RL</td>\n",
              "      <td>50.0</td>\n",
              "      <td>7420</td>\n",
              "      <td>Pave</td>\n",
              "      <td>NaN</td>\n",
              "      <td>Reg</td>\n",
              "      <td>Lvl</td>\n",
              "      <td>AllPub</td>\n",
              "      <td>...</td>\n",
              "      <td>0</td>\n",
              "      <td>NaN</td>\n",
              "      <td>NaN</td>\n",
              "      <td>NaN</td>\n",
              "      <td>0</td>\n",
              "      <td>1</td>\n",
              "      <td>2008</td>\n",
              "      <td>WD</td>\n",
              "      <td>Normal</td>\n",
              "      <td>118000</td>\n",
              "    </tr>\n",
              "  </tbody>\n",
              "</table>\n",
              "<p>10 rows × 81 columns</p>\n",
              "</div>\n",
              "      <button class=\"colab-df-convert\" onclick=\"convertToInteractive('df-1db3c794-bc38-4a62-9347-8c26a72187d8')\"\n",
              "              title=\"Convert this dataframe to an interactive table.\"\n",
              "              style=\"display:none;\">\n",
              "        \n",
              "  <svg xmlns=\"http://www.w3.org/2000/svg\" height=\"24px\"viewBox=\"0 0 24 24\"\n",
              "       width=\"24px\">\n",
              "    <path d=\"M0 0h24v24H0V0z\" fill=\"none\"/>\n",
              "    <path d=\"M18.56 5.44l.94 2.06.94-2.06 2.06-.94-2.06-.94-.94-2.06-.94 2.06-2.06.94zm-11 1L8.5 8.5l.94-2.06 2.06-.94-2.06-.94L8.5 2.5l-.94 2.06-2.06.94zm10 10l.94 2.06.94-2.06 2.06-.94-2.06-.94-.94-2.06-.94 2.06-2.06.94z\"/><path d=\"M17.41 7.96l-1.37-1.37c-.4-.4-.92-.59-1.43-.59-.52 0-1.04.2-1.43.59L10.3 9.45l-7.72 7.72c-.78.78-.78 2.05 0 2.83L4 21.41c.39.39.9.59 1.41.59.51 0 1.02-.2 1.41-.59l7.78-7.78 2.81-2.81c.8-.78.8-2.07 0-2.86zM5.41 20L4 18.59l7.72-7.72 1.47 1.35L5.41 20z\"/>\n",
              "  </svg>\n",
              "      </button>\n",
              "      \n",
              "  <style>\n",
              "    .colab-df-container {\n",
              "      display:flex;\n",
              "      flex-wrap:wrap;\n",
              "      gap: 12px;\n",
              "    }\n",
              "\n",
              "    .colab-df-convert {\n",
              "      background-color: #E8F0FE;\n",
              "      border: none;\n",
              "      border-radius: 50%;\n",
              "      cursor: pointer;\n",
              "      display: none;\n",
              "      fill: #1967D2;\n",
              "      height: 32px;\n",
              "      padding: 0 0 0 0;\n",
              "      width: 32px;\n",
              "    }\n",
              "\n",
              "    .colab-df-convert:hover {\n",
              "      background-color: #E2EBFA;\n",
              "      box-shadow: 0px 1px 2px rgba(60, 64, 67, 0.3), 0px 1px 3px 1px rgba(60, 64, 67, 0.15);\n",
              "      fill: #174EA6;\n",
              "    }\n",
              "\n",
              "    [theme=dark] .colab-df-convert {\n",
              "      background-color: #3B4455;\n",
              "      fill: #D2E3FC;\n",
              "    }\n",
              "\n",
              "    [theme=dark] .colab-df-convert:hover {\n",
              "      background-color: #434B5C;\n",
              "      box-shadow: 0px 1px 3px 1px rgba(0, 0, 0, 0.15);\n",
              "      filter: drop-shadow(0px 1px 2px rgba(0, 0, 0, 0.3));\n",
              "      fill: #FFFFFF;\n",
              "    }\n",
              "  </style>\n",
              "\n",
              "      <script>\n",
              "        const buttonEl =\n",
              "          document.querySelector('#df-1db3c794-bc38-4a62-9347-8c26a72187d8 button.colab-df-convert');\n",
              "        buttonEl.style.display =\n",
              "          google.colab.kernel.accessAllowed ? 'block' : 'none';\n",
              "\n",
              "        async function convertToInteractive(key) {\n",
              "          const element = document.querySelector('#df-1db3c794-bc38-4a62-9347-8c26a72187d8');\n",
              "          const dataTable =\n",
              "            await google.colab.kernel.invokeFunction('convertToInteractive',\n",
              "                                                     [key], {});\n",
              "          if (!dataTable) return;\n",
              "\n",
              "          const docLinkHtml = 'Like what you see? Visit the ' +\n",
              "            '<a target=\"_blank\" href=https://colab.research.google.com/notebooks/data_table.ipynb>data table notebook</a>'\n",
              "            + ' to learn more about interactive tables.';\n",
              "          element.innerHTML = '';\n",
              "          dataTable['output_type'] = 'display_data';\n",
              "          await google.colab.output.renderOutput(dataTable, element);\n",
              "          const docLink = document.createElement('div');\n",
              "          docLink.innerHTML = docLinkHtml;\n",
              "          element.appendChild(docLink);\n",
              "        }\n",
              "      </script>\n",
              "    </div>\n",
              "  </div>\n",
              "  "
            ]
          },
          "metadata": {},
          "execution_count": 599
        }
      ],
      "source": [
        "df.head(10)"
      ]
    },
    {
      "cell_type": "code",
      "execution_count": 600,
      "metadata": {
        "colab": {
          "base_uri": "https://localhost:8080/"
        },
        "id": "limF9-Z2wbCg",
        "outputId": "b78a0613-9d65-45ee-e3f7-7658731a858e"
      },
      "outputs": [
        {
          "output_type": "execute_result",
          "data": {
            "text/plain": [
              "Index(['Id', 'MSSubClass', 'MSZoning', 'LotFrontage', 'LotArea', 'Street',\n",
              "       'Alley', 'LotShape', 'LandContour', 'Utilities', 'LotConfig',\n",
              "       'LandSlope', 'Neighborhood', 'Condition1', 'Condition2', 'BldgType',\n",
              "       'HouseStyle', 'OverallQual', 'OverallCond', 'YearBuilt', 'YearRemodAdd',\n",
              "       'RoofStyle', 'RoofMatl', 'Exterior1st', 'Exterior2nd', 'MasVnrType',\n",
              "       'MasVnrArea', 'ExterQual', 'ExterCond', 'Foundation', 'BsmtQual',\n",
              "       'BsmtCond', 'BsmtExposure', 'BsmtFinType1', 'BsmtFinSF1',\n",
              "       'BsmtFinType2', 'BsmtFinSF2', 'BsmtUnfSF', 'TotalBsmtSF', 'Heating',\n",
              "       'HeatingQC', 'CentralAir', 'Electrical', '1stFlrSF', '2ndFlrSF',\n",
              "       'LowQualFinSF', 'GrLivArea', 'BsmtFullBath', 'BsmtHalfBath', 'FullBath',\n",
              "       'HalfBath', 'BedroomAbvGr', 'KitchenAbvGr', 'KitchenQual',\n",
              "       'TotRmsAbvGrd', 'Functional', 'Fireplaces', 'FireplaceQu', 'GarageType',\n",
              "       'GarageYrBlt', 'GarageFinish', 'GarageCars', 'GarageArea', 'GarageQual',\n",
              "       'GarageCond', 'PavedDrive', 'WoodDeckSF', 'OpenPorchSF',\n",
              "       'EnclosedPorch', '3SsnPorch', 'ScreenPorch', 'PoolArea', 'PoolQC',\n",
              "       'Fence', 'MiscFeature', 'MiscVal', 'MoSold', 'YrSold', 'SaleType',\n",
              "       'SaleCondition', 'SalePrice'],\n",
              "      dtype='object')"
            ]
          },
          "metadata": {},
          "execution_count": 600
        }
      ],
      "source": [
        "df.columns"
      ]
    },
    {
      "cell_type": "code",
      "execution_count": 601,
      "metadata": {
        "colab": {
          "base_uri": "https://localhost:8080/"
        },
        "id": "_iFe3VqokR8X",
        "outputId": "d7e9749e-a642-4dad-e77a-713361ee895e"
      },
      "outputs": [
        {
          "output_type": "execute_result",
          "data": {
            "text/plain": [
              "(1460, 81)"
            ]
          },
          "metadata": {},
          "execution_count": 601
        }
      ],
      "source": [
        "df.shape"
      ]
    },
    {
      "cell_type": "code",
      "execution_count": 602,
      "metadata": {
        "colab": {
          "base_uri": "https://localhost:8080/",
          "height": 575
        },
        "id": "qodlwPJewh_P",
        "outputId": "e43a11e2-8980-4da9-9440-5e037101a9cd"
      },
      "outputs": [
        {
          "output_type": "execute_result",
          "data": {
            "text/plain": [
              "<matplotlib.axes._subplots.AxesSubplot at 0x7fc160041880>"
            ]
          },
          "metadata": {},
          "execution_count": 602
        },
        {
          "output_type": "display_data",
          "data": {
            "text/plain": [
              "<Figure size 1080x576 with 1 Axes>"
            ],
            "image/png": "[encoded data removed]"
          },
          "metadata": {}
        }
      ],
      "source": [
        "missing=df.isnull().sum()\n",
        "missing=missing[missing>0]\n",
        "missing.sort_values(inplace=True)\n",
        "plt.figure(figsize=(15,8))\n",
        "missing.plot.bar()"
      ]
    },
    {
      "cell_type": "code",
      "execution_count": 603,
      "metadata": {
        "colab": {
          "base_uri": "https://localhost:8080/",
          "height": 382
        },
        "id": "voEPLF0k0-Fa",
        "outputId": "64a09e11-ece8-42e3-9ef2-f5f99ed6c1c6"
      },
      "outputs": [
        {
          "output_type": "execute_result",
          "data": {
            "text/plain": [
              "<seaborn.axisgrid.FacetGrid at 0x7fc15fe27a30>"
            ]
          },
          "metadata": {},
          "execution_count": 603
        },
        {
          "output_type": "display_data",
          "data": {
            "text/plain": [
              "<Figure size 360x360 with 1 Axes>"
            ],
            "image/png": "[encoded data removed]"
          },
          "metadata": {}
        }
      ],
      "source": [
        "#bins =its divide whole range in max to min by 20 ,and each histogram comprose 20\n",
        "#kde= only show distribution boundary\n",
        "#positively skewed\n",
        "sns.set(rc={'figure.figsize':(12,8)})\n",
        "sns.displot(df['SalePrice'],kde=False ,bins=20)"
      ]
    },
    {
      "cell_type": "code",
      "source": [
        "df['SalePrice'].describe()"
      ],
      "metadata": {
        "colab": {
          "base_uri": "https://localhost:8080/"
        },
        "id": "6D0XjuKtxdVo",
        "outputId": "87c16dee-549d-4ae1-b828-995df01ae33b"
      },
      "execution_count": 604,
      "outputs": [
        {
          "output_type": "execute_result",
          "data": {
            "text/plain": [
              "count      1460.000000\n",
              "mean     180921.195890\n",
              "std       79442.502883\n",
              "min       34900.000000\n",
              "25%      129975.000000\n",
              "50%      163000.000000\n",
              "75%      214000.000000\n",
              "max      755000.000000\n",
              "Name: SalePrice, dtype: float64"
            ]
          },
          "metadata": {},
          "execution_count": 604
        }
      ]
    },
    {
      "cell_type": "code",
      "execution_count": 605,
      "metadata": {
        "colab": {
          "base_uri": "https://localhost:8080/",
          "height": 534
        },
        "id": "4p9MhJv11GHc",
        "outputId": "eefb20e5-aea4-42e8-9c46-1fceeaeda68a"
      },
      "outputs": [
        {
          "output_type": "execute_result",
          "data": {
            "text/plain": [
              "<matplotlib.axes._subplots.AxesSubplot at 0x7fc160024940>"
            ]
          },
          "metadata": {},
          "execution_count": 605
        },
        {
          "output_type": "display_data",
          "data": {
            "text/plain": [
              "<Figure size 864x576 with 1 Axes>"
            ],
            "image/png": "[encoded data removed]"
          },
          "metadata": {}
        }
      ],
      "source": [
        "sns.kdeplot(df['SalePrice'])"
      ]
    },
    {
      "cell_type": "code",
      "execution_count": 606,
      "metadata": {
        "colab": {
          "base_uri": "https://localhost:8080/"
        },
        "id": "KZwMdOmfkXoZ",
        "outputId": "c3c2f6b5-720e-454e-83ce-60264534d89e"
      },
      "outputs": [
        {
          "output_type": "stream",
          "name": "stdout",
          "text": [
            "<class 'pandas.core.frame.DataFrame'>\n",
            "RangeIndex: 1460 entries, 0 to 1459\n",
            "Data columns (total 81 columns):\n",
            " #   Column         Non-Null Count  Dtype  \n",
            "---  ------         --------------  -----  \n",
            " 0   Id             1460 non-null   int64  \n",
            " 1   MSSubClass     1460 non-null   int64  \n",
            " 2   MSZoning       1460 non-null   object \n",
            " 3   LotFrontage    1201 non-null   float64\n",
            " 4   LotArea        1460 non-null   int64  \n",
            " 5   Street         1460 non-null   object \n",
            " 6   Alley          91 non-null     object \n",
            " 7   LotShape       1460 non-null   object \n",
            " 8   LandContour    1460 non-null   object \n",
            " 9   Utilities      1460 non-null   object \n",
            " 10  LotConfig      1460 non-null   object \n",
            " 11  LandSlope      1460 non-null   object \n",
            " 12  Neighborhood   1460 non-null   object \n",
            " 13  Condition1     1460 non-null   object \n",
            " 14  Condition2     1460 non-null   object \n",
            " 15  BldgType       1460 non-null   object \n",
            " 16  HouseStyle     1460 non-null   object \n",
            " 17  OverallQual    1460 non-null   int64  \n",
            " 18  OverallCond    1460 non-null   int64  \n",
            " 19  YearBuilt      1460 non-null   int64  \n",
            " 20  YearRemodAdd   1460 non-null   int64  \n",
            " 21  RoofStyle      1460 non-null   object \n",
            " 22  RoofMatl       1460 non-null   object \n",
            " 23  Exterior1st    1460 non-null   object \n",
            " 24  Exterior2nd    1460 non-null   object \n",
            " 25  MasVnrType     1452 non-null   object \n",
            " 26  MasVnrArea     1452 non-null   float64\n",
            " 27  ExterQual      1460 non-null   object \n",
            " 28  ExterCond      1460 non-null   object \n",
            " 29  Foundation     1460 non-null   object \n",
            " 30  BsmtQual       1423 non-null   object \n",
            " 31  BsmtCond       1423 non-null   object \n",
            " 32  BsmtExposure   1422 non-null   object \n",
            " 33  BsmtFinType1   1423 non-null   object \n",
            " 34  BsmtFinSF1     1460 non-null   int64  \n",
            " 35  BsmtFinType2   1422 non-null   object \n",
            " 36  BsmtFinSF2     1460 non-null   int64  \n",
            " 37  BsmtUnfSF      1460 non-null   int64  \n",
            " 38  TotalBsmtSF    1460 non-null   int64  \n",
            " 39  Heating        1460 non-null   object \n",
            " 40  HeatingQC      1460 non-null   object \n",
            " 41  CentralAir     1460 non-null   object \n",
            " 42  Electrical     1459 non-null   object \n",
            " 43  1stFlrSF       1460 non-null   int64  \n",
            " 44  2ndFlrSF       1460 non-null   int64  \n",
            " 45  LowQualFinSF   1460 non-null   int64  \n",
            " 46  GrLivArea      1460 non-null   int64  \n",
            " 47  BsmtFullBath   1460 non-null   int64  \n",
            " 48  BsmtHalfBath   1460 non-null   int64  \n",
            " 49  FullBath       1460 non-null   int64  \n",
            " 50  HalfBath       1460 non-null   int64  \n",
            " 51  BedroomAbvGr   1460 non-null   int64  \n",
            " 52  KitchenAbvGr   1460 non-null   int64  \n",
            " 53  KitchenQual    1460 non-null   object \n",
            " 54  TotRmsAbvGrd   1460 non-null   int64  \n",
            " 55  Functional     1460 non-null   object \n",
            " 56  Fireplaces     1460 non-null   int64  \n",
            " 57  FireplaceQu    770 non-null    object \n",
            " 58  GarageType     1379 non-null   object \n",
            " 59  GarageYrBlt    1379 non-null   float64\n",
            " 60  GarageFinish   1379 non-null   object \n",
            " 61  GarageCars     1460 non-null   int64  \n",
            " 62  GarageArea     1460 non-null   int64  \n",
            " 63  GarageQual     1379 non-null   object \n",
            " 64  GarageCond     1379 non-null   object \n",
            " 65  PavedDrive     1460 non-null   object \n",
            " 66  WoodDeckSF     1460 non-null   int64  \n",
            " 67  OpenPorchSF    1460 non-null   int64  \n",
            " 68  EnclosedPorch  1460 non-null   int64  \n",
            " 69  3SsnPorch      1460 non-null   int64  \n",
            " 70  ScreenPorch    1460 non-null   int64  \n",
            " 71  PoolArea       1460 non-null   int64  \n",
            " 72  PoolQC         7 non-null      object \n",
            " 73  Fence          281 non-null    object \n",
            " 74  MiscFeature    54 non-null     object \n",
            " 75  MiscVal        1460 non-null   int64  \n",
            " 76  MoSold         1460 non-null   int64  \n",
            " 77  YrSold         1460 non-null   int64  \n",
            " 78  SaleType       1460 non-null   object \n",
            " 79  SaleCondition  1460 non-null   object \n",
            " 80  SalePrice      1460 non-null   int64  \n",
            "dtypes: float64(3), int64(35), object(43)\n",
            "memory usage: 924.0+ KB\n"
          ]
        }
      ],
      "source": [
        "df.info()"
      ]
    },
    {
      "cell_type": "markdown",
      "source": [
        "**Statically Describing**"
      ],
      "metadata": {
        "id": "A5A3n3Ksx3cw"
      }
    },
    {
      "cell_type": "code",
      "execution_count": 607,
      "metadata": {
        "colab": {
          "base_uri": "https://localhost:8080/",
          "height": 1000
        },
        "id": "JYqK0e8HkdG_",
        "outputId": "47f8d0de-2042-485f-9ad2-45b8214be798"
      },
      "outputs": [
        {
          "output_type": "execute_result",
          "data": {
            "text/plain": [
              "                count           mean           std      min        25%  \\\n",
              "Id             1460.0     730.500000    421.610009      1.0     365.75   \n",
              "MSSubClass     1460.0      56.897260     42.300571     20.0      20.00   \n",
              "LotFrontage    1201.0      70.049958     24.284752     21.0      59.00   \n",
              "LotArea        1460.0   10516.828082   9981.264932   1300.0    7553.50   \n",
              "OverallQual    1460.0       6.099315      1.382997      1.0       5.00   \n",
              "OverallCond    1460.0       5.575342      1.112799      1.0       5.00   \n",
              "YearBuilt      1460.0    1971.267808     30.202904   1872.0    1954.00   \n",
              "YearRemodAdd   1460.0    1984.865753     20.645407   1950.0    1967.00   \n",
              "MasVnrArea     1452.0     103.685262    181.066207      0.0       0.00   \n",
              "BsmtFinSF1     1460.0     443.639726    456.098091      0.0       0.00   \n",
              "BsmtFinSF2     1460.0      46.549315    161.319273      0.0       0.00   \n",
              "BsmtUnfSF      1460.0     567.240411    441.866955      0.0     223.00   \n",
              "TotalBsmtSF    1460.0    1057.429452    438.705324      0.0     795.75   \n",
              "1stFlrSF       1460.0    1162.626712    386.587738    334.0     882.00   \n",
              "2ndFlrSF       1460.0     346.992466    436.528436      0.0       0.00   \n",
              "LowQualFinSF   1460.0       5.844521     48.623081      0.0       0.00   \n",
              "GrLivArea      1460.0    1515.463699    525.480383    334.0    1129.50   \n",
              "BsmtFullBath   1460.0       0.425342      0.518911      0.0       0.00   \n",
              "BsmtHalfBath   1460.0       0.057534      0.238753      0.0       0.00   \n",
              "FullBath       1460.0       1.565068      0.550916      0.0       1.00   \n",
              "HalfBath       1460.0       0.382877      0.502885      0.0       0.00   \n",
              "BedroomAbvGr   1460.0       2.866438      0.815778      0.0       2.00   \n",
              "KitchenAbvGr   1460.0       1.046575      0.220338      0.0       1.00   \n",
              "TotRmsAbvGrd   1460.0       6.517808      1.625393      2.0       5.00   \n",
              "Fireplaces     1460.0       0.613014      0.644666      0.0       0.00   \n",
              "GarageYrBlt    1379.0    1978.506164     24.689725   1900.0    1961.00   \n",
              "GarageCars     1460.0       1.767123      0.747315      0.0       1.00   \n",
              "GarageArea     1460.0     472.980137    213.804841      0.0     334.50   \n",
              "WoodDeckSF     1460.0      94.244521    125.338794      0.0       0.00   \n",
              "OpenPorchSF    1460.0      46.660274     66.256028      0.0       0.00   \n",
              "EnclosedPorch  1460.0      21.954110     61.119149      0.0       0.00   \n",
              "3SsnPorch      1460.0       3.409589     29.317331      0.0       0.00   \n",
              "ScreenPorch    1460.0      15.060959     55.757415      0.0       0.00   \n",
              "PoolArea       1460.0       2.758904     40.177307      0.0       0.00   \n",
              "MiscVal        1460.0      43.489041    496.123024      0.0       0.00   \n",
              "MoSold         1460.0       6.321918      2.703626      1.0       5.00   \n",
              "YrSold         1460.0    2007.815753      1.328095   2006.0    2007.00   \n",
              "SalePrice      1460.0  180921.195890  79442.502883  34900.0  129975.00   \n",
              "\n",
              "                    50%        75%       max  \n",
              "Id                730.5    1095.25    1460.0  \n",
              "MSSubClass         50.0      70.00     190.0  \n",
              "LotFrontage        69.0      80.00     313.0  \n",
              "LotArea          9478.5   11601.50  215245.0  \n",
              "OverallQual         6.0       7.00      10.0  \n",
              "OverallCond         5.0       6.00       9.0  \n",
              "YearBuilt        1973.0    2000.00    2010.0  \n",
              "YearRemodAdd     1994.0    2004.00    2010.0  \n",
              "MasVnrArea          0.0     166.00    1600.0  \n",
              "BsmtFinSF1        383.5     712.25    5644.0  \n",
              "BsmtFinSF2          0.0       0.00    1474.0  \n",
              "BsmtUnfSF         477.5     808.00    2336.0  \n",
              "TotalBsmtSF       991.5    1298.25    6110.0  \n",
              "1stFlrSF         1087.0    1391.25    4692.0  \n",
              "2ndFlrSF            0.0     728.00    2065.0  \n",
              "LowQualFinSF        0.0       0.00     572.0  \n",
              "GrLivArea        1464.0    1776.75    5642.0  \n",
              "BsmtFullBath        0.0       1.00       3.0  \n",
              "BsmtHalfBath        0.0       0.00       2.0  \n",
              "FullBath            2.0       2.00       3.0  \n",
              "HalfBath            0.0       1.00       2.0  \n",
              "BedroomAbvGr        3.0       3.00       8.0  \n",
              "KitchenAbvGr        1.0       1.00       3.0  \n",
              "TotRmsAbvGrd        6.0       7.00      14.0  \n",
              "Fireplaces          1.0       1.00       3.0  \n",
              "GarageYrBlt      1980.0    2002.00    2010.0  \n",
              "GarageCars          2.0       2.00       4.0  \n",
              "GarageArea        480.0     576.00    1418.0  \n",
              "WoodDeckSF          0.0     168.00     857.0  \n",
              "OpenPorchSF        25.0      68.00     547.0  \n",
              "EnclosedPorch       0.0       0.00     552.0  \n",
              "3SsnPorch           0.0       0.00     508.0  \n",
              "ScreenPorch         0.0       0.00     480.0  \n",
              "PoolArea            0.0       0.00     738.0  \n",
              "MiscVal             0.0       0.00   15500.0  \n",
              "MoSold              6.0       8.00      12.0  \n",
              "YrSold           2008.0    2009.00    2010.0  \n",
              "SalePrice      163000.0  214000.00  755000.0  "
            ],
            "text/html": [
              "\n",
              "  <div id=\"df-b37cea66-fb45-48f7-8500-367f28b82042\">\n",
              "    <div class=\"colab-df-container\">\n",
              "      <div>\n",
              "<style scoped>\n",
              "    .dataframe tbody tr th:only-of-type {\n",
              "        vertical-align: middle;\n",
              "    }\n",
              "\n",
              "    .dataframe tbody tr th {\n",
              "        vertical-align: top;\n",
              "    }\n",
              "\n",
              "    .dataframe thead th {\n",
              "        text-align: right;\n",
              "    }\n",
              "</style>\n",
              "<table border=\"1\" class=\"dataframe\">\n",
              "  <thead>\n",
              "    <tr style=\"text-align: right;\">\n",
              "      <th></th>\n",
              "      <th>count</th>\n",
              "      <th>mean</th>\n",
              "      <th>std</th>\n",
              "      <th>min</th>\n",
              "      <th>25%</th>\n",
              "      <th>50%</th>\n",
              "      <th>75%</th>\n",
              "      <th>max</th>\n",
              "    </tr>\n",
              "  </thead>\n",
              "  <tbody>\n",
              "    <tr>\n",
              "      <th>Id</th>\n",
              "      <td>1460.0</td>\n",
              "      <td>730.500000</td>\n",
              "      <td>421.610009</td>\n",
              "      <td>1.0</td>\n",
              "      <td>365.75</td>\n",
              "      <td>730.5</td>\n",
              "      <td>1095.25</td>\n",
              "      <td>1460.0</td>\n",
              "    </tr>\n",
              "    <tr>\n",
              "      <th>MSSubClass</th>\n",
              "      <td>1460.0</td>\n",
              "      <td>56.897260</td>\n",
              "      <td>42.300571</td>\n",
              "      <td>20.0</td>\n",
              "      <td>20.00</td>\n",
              "      <td>50.0</td>\n",
              "      <td>70.00</td>\n",
              "      <td>190.0</td>\n",
              "    </tr>\n",
              "    <tr>\n",
              "      <th>LotFrontage</th>\n",
              "      <td>1201.0</td>\n",
              "      <td>70.049958</td>\n",
              "      <td>24.284752</td>\n",
              "      <td>21.0</td>\n",
              "      <td>59.00</td>\n",
              "      <td>69.0</td>\n",
              "      <td>80.00</td>\n",
              "      <td>313.0</td>\n",
              "    </tr>\n",
              "    <tr>\n",
              "      <th>LotArea</th>\n",
              "      <td>1460.0</td>\n",
              "      <td>10516.828082</td>\n",
              "      <td>9981.264932</td>\n",
              "      <td>1300.0</td>\n",
              "      <td>7553.50</td>\n",
              "      <td>9478.5</td>\n",
              "      <td>11601.50</td>\n",
              "      <td>215245.0</td>\n",
              "    </tr>\n",
              "    <tr>\n",
              "      <th>OverallQual</th>\n",
              "      <td>1460.0</td>\n",
              "      <td>6.099315</td>\n",
              "      <td>1.382997</td>\n",
              "      <td>1.0</td>\n",
              "      <td>5.00</td>\n",
              "      <td>6.0</td>\n",
              "      <td>7.00</td>\n",
              "      <td>10.0</td>\n",
              "    </tr>\n",
              "    <tr>\n",
              "      <th>OverallCond</th>\n",
              "      <td>1460.0</td>\n",
              "      <td>5.575342</td>\n",
              "      <td>1.112799</td>\n",
              "      <td>1.0</td>\n",
              "      <td>5.00</td>\n",
              "      <td>5.0</td>\n",
              "      <td>6.00</td>\n",
              "      <td>9.0</td>\n",
              "    </tr>\n",
              "    <tr>\n",
              "      <th>YearBuilt</th>\n",
              "      <td>1460.0</td>\n",
              "      <td>1971.267808</td>\n",
              "      <td>30.202904</td>\n",
              "      <td>1872.0</td>\n",
              "      <td>1954.00</td>\n",
              "      <td>1973.0</td>\n",
              "      <td>2000.00</td>\n",
              "      <td>2010.0</td>\n",
              "    </tr>\n",
              "    <tr>\n",
              "      <th>YearRemodAdd</th>\n",
              "      <td>1460.0</td>\n",
              "      <td>1984.865753</td>\n",
              "      <td>20.645407</td>\n",
              "      <td>1950.0</td>\n",
              "      <td>1967.00</td>\n",
              "      <td>1994.0</td>\n",
              "      <td>2004.00</td>\n",
              "      <td>2010.0</td>\n",
              "    </tr>\n",
              "    <tr>\n",
              "      <th>MasVnrArea</th>\n",
              "      <td>1452.0</td>\n",
              "      <td>103.685262</td>\n",
              "      <td>181.066207</td>\n",
              "      <td>0.0</td>\n",
              "      <td>0.00</td>\n",
              "      <td>0.0</td>\n",
              "      <td>166.00</td>\n",
              "      <td>1600.0</td>\n",
              "    </tr>\n",
              "    <tr>\n",
              "      <th>BsmtFinSF1</th>\n",
              "      <td>1460.0</td>\n",
              "      <td>443.639726</td>\n",
              "      <td>456.098091</td>\n",
              "      <td>0.0</td>\n",
              "      <td>0.00</td>\n",
              "      <td>383.5</td>\n",
              "      <td>712.25</td>\n",
              "      <td>5644.0</td>\n",
              "    </tr>\n",
              "    <tr>\n",
              "      <th>BsmtFinSF2</th>\n",
              "      <td>1460.0</td>\n",
              "      <td>46.549315</td>\n",
              "      <td>161.319273</td>\n",
              "      <td>0.0</td>\n",
              "      <td>0.00</td>\n",
              "      <td>0.0</td>\n",
              "      <td>0.00</td>\n",
              "      <td>1474.0</td>\n",
              "    </tr>\n",
              "    <tr>\n",
              "      <th>BsmtUnfSF</th>\n",
              "      <td>1460.0</td>\n",
              "      <td>567.240411</td>\n",
              "      <td>441.866955</td>\n",
              "      <td>0.0</td>\n",
              "      <td>223.00</td>\n",
              "      <td>477.5</td>\n",
              "      <td>808.00</td>\n",
              "      <td>2336.0</td>\n",
              "    </tr>\n",
              "    <tr>\n",
              "      <th>TotalBsmtSF</th>\n",
              "      <td>1460.0</td>\n",
              "      <td>1057.429452</td>\n",
              "      <td>438.705324</td>\n",
              "      <td>0.0</td>\n",
              "      <td>795.75</td>\n",
              "      <td>991.5</td>\n",
              "      <td>1298.25</td>\n",
              "      <td>6110.0</td>\n",
              "    </tr>\n",
              "    <tr>\n",
              "      <th>1stFlrSF</th>\n",
              "      <td>1460.0</td>\n",
              "      <td>1162.626712</td>\n",
              "      <td>386.587738</td>\n",
              "      <td>334.0</td>\n",
              "      <td>882.00</td>\n",
              "      <td>1087.0</td>\n",
              "      <td>1391.25</td>\n",
              "      <td>4692.0</td>\n",
              "    </tr>\n",
              "    <tr>\n",
              "      <th>2ndFlrSF</th>\n",
              "      <td>1460.0</td>\n",
              "      <td>346.992466</td>\n",
              "      <td>436.528436</td>\n",
              "      <td>0.0</td>\n",
              "      <td>0.00</td>\n",
              "      <td>0.0</td>\n",
              "      <td>728.00</td>\n",
              "      <td>2065.0</td>\n",
              "    </tr>\n",
              "    <tr>\n",
              "      <th>LowQualFinSF</th>\n",
              "      <td>1460.0</td>\n",
              "      <td>5.844521</td>\n",
              "      <td>48.623081</td>\n",
              "      <td>0.0</td>\n",
              "      <td>0.00</td>\n",
              "      <td>0.0</td>\n",
              "      <td>0.00</td>\n",
              "      <td>572.0</td>\n",
              "    </tr>\n",
              "    <tr>\n",
              "      <th>GrLivArea</th>\n",
              "      <td>1460.0</td>\n",
              "      <td>1515.463699</td>\n",
              "      <td>525.480383</td>\n",
              "      <td>334.0</td>\n",
              "      <td>1129.50</td>\n",
              "      <td>1464.0</td>\n",
              "      <td>1776.75</td>\n",
              "      <td>5642.0</td>\n",
              "    </tr>\n",
              "    <tr>\n",
              "      <th>BsmtFullBath</th>\n",
              "      <td>1460.0</td>\n",
              "      <td>0.425342</td>\n",
              "      <td>0.518911</td>\n",
              "      <td>0.0</td>\n",
              "      <td>0.00</td>\n",
              "      <td>0.0</td>\n",
              "      <td>1.00</td>\n",
              "      <td>3.0</td>\n",
              "    </tr>\n",
              "    <tr>\n",
              "      <th>BsmtHalfBath</th>\n",
              "      <td>1460.0</td>\n",
              "      <td>0.057534</td>\n",
              "      <td>0.238753</td>\n",
              "      <td>0.0</td>\n",
              "      <td>0.00</td>\n",
              "      <td>0.0</td>\n",
              "      <td>0.00</td>\n",
              "      <td>2.0</td>\n",
              "    </tr>\n",
              "    <tr>\n",
              "      <th>FullBath</th>\n",
              "      <td>1460.0</td>\n",
              "      <td>1.565068</td>\n",
              "      <td>0.550916</td>\n",
              "      <td>0.0</td>\n",
              "      <td>1.00</td>\n",
              "      <td>2.0</td>\n",
              "      <td>2.00</td>\n",
              "      <td>3.0</td>\n",
              "    </tr>\n",
              "    <tr>\n",
              "      <th>HalfBath</th>\n",
              "      <td>1460.0</td>\n",
              "      <td>0.382877</td>\n",
              "      <td>0.502885</td>\n",
              "      <td>0.0</td>\n",
              "      <td>0.00</td>\n",
              "      <td>0.0</td>\n",
              "      <td>1.00</td>\n",
              "      <td>2.0</td>\n",
              "    </tr>\n",
              "    <tr>\n",
              "      <th>BedroomAbvGr</th>\n",
              "      <td>1460.0</td>\n",
              "      <td>2.866438</td>\n",
              "      <td>0.815778</td>\n",
              "      <td>0.0</td>\n",
              "      <td>2.00</td>\n",
              "      <td>3.0</td>\n",
              "      <td>3.00</td>\n",
              "      <td>8.0</td>\n",
              "    </tr>\n",
              "    <tr>\n",
              "      <th>KitchenAbvGr</th>\n",
              "      <td>1460.0</td>\n",
              "      <td>1.046575</td>\n",
              "      <td>0.220338</td>\n",
              "      <td>0.0</td>\n",
              "      <td>1.00</td>\n",
              "      <td>1.0</td>\n",
              "      <td>1.00</td>\n",
              "      <td>3.0</td>\n",
              "    </tr>\n",
              "    <tr>\n",
              "      <th>TotRmsAbvGrd</th>\n",
              "      <td>1460.0</td>\n",
              "      <td>6.517808</td>\n",
              "      <td>1.625393</td>\n",
              "      <td>2.0</td>\n",
              "      <td>5.00</td>\n",
              "      <td>6.0</td>\n",
              "      <td>7.00</td>\n",
              "      <td>14.0</td>\n",
              "    </tr>\n",
              "    <tr>\n",
              "      <th>Fireplaces</th>\n",
              "      <td>1460.0</td>\n",
              "      <td>0.613014</td>\n",
              "      <td>0.644666</td>\n",
              "      <td>0.0</td>\n",
              "      <td>0.00</td>\n",
              "      <td>1.0</td>\n",
              "      <td>1.00</td>\n",
              "      <td>3.0</td>\n",
              "    </tr>\n",
              "    <tr>\n",
              "      <th>GarageYrBlt</th>\n",
              "      <td>1379.0</td>\n",
              "      <td>1978.506164</td>\n",
              "      <td>24.689725</td>\n",
              "      <td>1900.0</td>\n",
              "      <td>1961.00</td>\n",
              "      <td>1980.0</td>\n",
              "      <td>2002.00</td>\n",
              "      <td>2010.0</td>\n",
              "    </tr>\n",
              "    <tr>\n",
              "      <th>GarageCars</th>\n",
              "      <td>1460.0</td>\n",
              "      <td>1.767123</td>\n",
              "      <td>0.747315</td>\n",
              "      <td>0.0</td>\n",
              "      <td>1.00</td>\n",
              "      <td>2.0</td>\n",
              "      <td>2.00</td>\n",
              "      <td>4.0</td>\n",
              "    </tr>\n",
              "    <tr>\n",
              "      <th>GarageArea</th>\n",
              "      <td>1460.0</td>\n",
              "      <td>472.980137</td>\n",
              "      <td>213.804841</td>\n",
              "      <td>0.0</td>\n",
              "      <td>334.50</td>\n",
              "      <td>480.0</td>\n",
              "      <td>576.00</td>\n",
              "      <td>1418.0</td>\n",
              "    </tr>\n",
              "    <tr>\n",
              "      <th>WoodDeckSF</th>\n",
              "      <td>1460.0</td>\n",
              "      <td>94.244521</td>\n",
              "      <td>125.338794</td>\n",
              "      <td>0.0</td>\n",
              "      <td>0.00</td>\n",
              "      <td>0.0</td>\n",
              "      <td>168.00</td>\n",
              "      <td>857.0</td>\n",
              "    </tr>\n",
              "    <tr>\n",
              "      <th>OpenPorchSF</th>\n",
              "      <td>1460.0</td>\n",
              "      <td>46.660274</td>\n",
              "      <td>66.256028</td>\n",
              "      <td>0.0</td>\n",
              "      <td>0.00</td>\n",
              "      <td>25.0</td>\n",
              "      <td>68.00</td>\n",
              "      <td>547.0</td>\n",
              "    </tr>\n",
              "    <tr>\n",
              "      <th>EnclosedPorch</th>\n",
              "      <td>1460.0</td>\n",
              "      <td>21.954110</td>\n",
              "      <td>61.119149</td>\n",
              "      <td>0.0</td>\n",
              "      <td>0.00</td>\n",
              "      <td>0.0</td>\n",
              "      <td>0.00</td>\n",
              "      <td>552.0</td>\n",
              "    </tr>\n",
              "    <tr>\n",
              "      <th>3SsnPorch</th>\n",
              "      <td>1460.0</td>\n",
              "      <td>3.409589</td>\n",
              "      <td>29.317331</td>\n",
              "      <td>0.0</td>\n",
              "      <td>0.00</td>\n",
              "      <td>0.0</td>\n",
              "      <td>0.00</td>\n",
              "      <td>508.0</td>\n",
              "    </tr>\n",
              "    <tr>\n",
              "      <th>ScreenPorch</th>\n",
              "      <td>1460.0</td>\n",
              "      <td>15.060959</td>\n",
              "      <td>55.757415</td>\n",
              "      <td>0.0</td>\n",
              "      <td>0.00</td>\n",
              "      <td>0.0</td>\n",
              "      <td>0.00</td>\n",
              "      <td>480.0</td>\n",
              "    </tr>\n",
              "    <tr>\n",
              "      <th>PoolArea</th>\n",
              "      <td>1460.0</td>\n",
              "      <td>2.758904</td>\n",
              "      <td>40.177307</td>\n",
              "      <td>0.0</td>\n",
              "      <td>0.00</td>\n",
              "      <td>0.0</td>\n",
              "      <td>0.00</td>\n",
              "      <td>738.0</td>\n",
              "    </tr>\n",
              "    <tr>\n",
              "      <th>MiscVal</th>\n",
              "      <td>1460.0</td>\n",
              "      <td>43.489041</td>\n",
              "      <td>496.123024</td>\n",
              "      <td>0.0</td>\n",
              "      <td>0.00</td>\n",
              "      <td>0.0</td>\n",
              "      <td>0.00</td>\n",
              "      <td>15500.0</td>\n",
              "    </tr>\n",
              "    <tr>\n",
              "      <th>MoSold</th>\n",
              "      <td>1460.0</td>\n",
              "      <td>6.321918</td>\n",
              "      <td>2.703626</td>\n",
              "      <td>1.0</td>\n",
              "      <td>5.00</td>\n",
              "      <td>6.0</td>\n",
              "      <td>8.00</td>\n",
              "      <td>12.0</td>\n",
              "    </tr>\n",
              "    <tr>\n",
              "      <th>YrSold</th>\n",
              "      <td>1460.0</td>\n",
              "      <td>2007.815753</td>\n",
              "      <td>1.328095</td>\n",
              "      <td>2006.0</td>\n",
              "      <td>2007.00</td>\n",
              "      <td>2008.0</td>\n",
              "      <td>2009.00</td>\n",
              "      <td>2010.0</td>\n",
              "    </tr>\n",
              "    <tr>\n",
              "      <th>SalePrice</th>\n",
              "      <td>1460.0</td>\n",
              "      <td>180921.195890</td>\n",
              "      <td>79442.502883</td>\n",
              "      <td>34900.0</td>\n",
              "      <td>129975.00</td>\n",
              "      <td>163000.0</td>\n",
              "      <td>214000.00</td>\n",
              "      <td>755000.0</td>\n",
              "    </tr>\n",
              "  </tbody>\n",
              "</table>\n",
              "</div>\n",
              "      <button class=\"colab-df-convert\" onclick=\"convertToInteractive('df-b37cea66-fb45-48f7-8500-367f28b82042')\"\n",
              "              title=\"Convert this dataframe to an interactive table.\"\n",
              "              style=\"display:none;\">\n",
              "        \n",
              "  <svg xmlns=\"http://www.w3.org/2000/svg\" height=\"24px\"viewBox=\"0 0 24 24\"\n",
              "       width=\"24px\">\n",
              "    <path d=\"M0 0h24v24H0V0z\" fill=\"none\"/>\n",
              "    <path d=\"M18.56 5.44l.94 2.06.94-2.06 2.06-.94-2.06-.94-.94-2.06-.94 2.06-2.06.94zm-11 1L8.5 8.5l.94-2.06 2.06-.94-2.06-.94L8.5 2.5l-.94 2.06-2.06.94zm10 10l.94 2.06.94-2.06 2.06-.94-2.06-.94-.94-2.06-.94 2.06-2.06.94z\"/><path d=\"M17.41 7.96l-1.37-1.37c-.4-.4-.92-.59-1.43-.59-.52 0-1.04.2-1.43.59L10.3 9.45l-7.72 7.72c-.78.78-.78 2.05 0 2.83L4 21.41c.39.39.9.59 1.41.59.51 0 1.02-.2 1.41-.59l7.78-7.78 2.81-2.81c.8-.78.8-2.07 0-2.86zM5.41 20L4 18.59l7.72-7.72 1.47 1.35L5.41 20z\"/>\n",
              "  </svg>\n",
              "      </button>\n",
              "      \n",
              "  <style>\n",
              "    .colab-df-container {\n",
              "      display:flex;\n",
              "      flex-wrap:wrap;\n",
              "      gap: 12px;\n",
              "    }\n",
              "\n",
              "    .colab-df-convert {\n",
              "      background-color: #E8F0FE;\n",
              "      border: none;\n",
              "      border-radius: 50%;\n",
              "      cursor: pointer;\n",
              "      display: none;\n",
              "      fill: #1967D2;\n",
              "      height: 32px;\n",
              "      padding: 0 0 0 0;\n",
              "      width: 32px;\n",
              "    }\n",
              "\n",
              "    .colab-df-convert:hover {\n",
              "      background-color: #E2EBFA;\n",
              "      box-shadow: 0px 1px 2px rgba(60, 64, 67, 0.3), 0px 1px 3px 1px rgba(60, 64, 67, 0.15);\n",
              "      fill: #174EA6;\n",
              "    }\n",
              "\n",
              "    [theme=dark] .colab-df-convert {\n",
              "      background-color: #3B4455;\n",
              "      fill: #D2E3FC;\n",
              "    }\n",
              "\n",
              "    [theme=dark] .colab-df-convert:hover {\n",
              "      background-color: #434B5C;\n",
              "      box-shadow: 0px 1px 3px 1px rgba(0, 0, 0, 0.15);\n",
              "      filter: drop-shadow(0px 1px 2px rgba(0, 0, 0, 0.3));\n",
              "      fill: #FFFFFF;\n",
              "    }\n",
              "  </style>\n",
              "\n",
              "      <script>\n",
              "        const buttonEl =\n",
              "          document.querySelector('#df-b37cea66-fb45-48f7-8500-367f28b82042 button.colab-df-convert');\n",
              "        buttonEl.style.display =\n",
              "          google.colab.kernel.accessAllowed ? 'block' : 'none';\n",
              "\n",
              "        async function convertToInteractive(key) {\n",
              "          const element = document.querySelector('#df-b37cea66-fb45-48f7-8500-367f28b82042');\n",
              "          const dataTable =\n",
              "            await google.colab.kernel.invokeFunction('convertToInteractive',\n",
              "                                                     [key], {});\n",
              "          if (!dataTable) return;\n",
              "\n",
              "          const docLinkHtml = 'Like what you see? Visit the ' +\n",
              "            '<a target=\"_blank\" href=https://colab.research.google.com/notebooks/data_table.ipynb>data table notebook</a>'\n",
              "            + ' to learn more about interactive tables.';\n",
              "          element.innerHTML = '';\n",
              "          dataTable['output_type'] = 'display_data';\n",
              "          await google.colab.output.renderOutput(dataTable, element);\n",
              "          const docLink = document.createElement('div');\n",
              "          docLink.innerHTML = docLinkHtml;\n",
              "          element.appendChild(docLink);\n",
              "        }\n",
              "      </script>\n",
              "    </div>\n",
              "  </div>\n",
              "  "
            ]
          },
          "metadata": {},
          "execution_count": 607
        }
      ],
      "source": [
        "df.describe().T"
      ]
    },
    {
      "cell_type": "markdown",
      "metadata": {
        "id": "xX8DQUiqo6t6"
      },
      "source": [
        "**Visualizing the correlations between numerical and categorical variables By using Seaborn **"
      ]
    },
    {
      "cell_type": "code",
      "execution_count": 608,
      "metadata": {
        "colab": {
          "base_uri": "https://localhost:8080/"
        },
        "id": "K5LIBoK0-g1u",
        "outputId": "3729657d-a0da-4dc9-842a-7636b456ffce"
      },
      "outputs": [
        {
          "output_type": "execute_result",
          "data": {
            "text/plain": [
              "Index(['Id', 'MSSubClass', 'LotFrontage', 'LotArea', 'OverallQual',\n",
              "       'OverallCond', 'YearBuilt', 'YearRemodAdd', 'MasVnrArea', 'BsmtFinSF1',\n",
              "       'BsmtFinSF2', 'BsmtUnfSF', 'TotalBsmtSF', '1stFlrSF', '2ndFlrSF',\n",
              "       'LowQualFinSF', 'GrLivArea', 'BsmtFullBath', 'BsmtHalfBath', 'FullBath',\n",
              "       'HalfBath', 'BedroomAbvGr', 'KitchenAbvGr', 'TotRmsAbvGrd',\n",
              "       'Fireplaces', 'GarageYrBlt', 'GarageCars', 'GarageArea', 'WoodDeckSF',\n",
              "       'OpenPorchSF', 'EnclosedPorch', '3SsnPorch', 'ScreenPorch', 'PoolArea',\n",
              "       'MiscVal', 'MoSold', 'YrSold', 'SalePrice'],\n",
              "      dtype='object')"
            ]
          },
          "metadata": {},
          "execution_count": 608
        }
      ],
      "source": [
        "numeric_features=df.select_dtypes(include=[np.number])\n",
        "numeric_features.columns"
      ]
    },
    {
      "cell_type": "code",
      "execution_count": 609,
      "metadata": {
        "colab": {
          "base_uri": "https://localhost:8080/"
        },
        "id": "JV04VRE2-5tz",
        "outputId": "57739486-64e7-4063-d059-e3c2264408dc"
      },
      "outputs": [
        {
          "output_type": "execute_result",
          "data": {
            "text/plain": [
              "Index(['MSZoning', 'Street', 'Alley', 'LotShape', 'LandContour', 'Utilities',\n",
              "       'LotConfig', 'LandSlope', 'Neighborhood', 'Condition1', 'Condition2',\n",
              "       'BldgType', 'HouseStyle', 'RoofStyle', 'RoofMatl', 'Exterior1st',\n",
              "       'Exterior2nd', 'MasVnrType', 'ExterQual', 'ExterCond', 'Foundation',\n",
              "       'BsmtQual', 'BsmtCond', 'BsmtExposure', 'BsmtFinType1', 'BsmtFinType2',\n",
              "       'Heating', 'HeatingQC', 'CentralAir', 'Electrical', 'KitchenQual',\n",
              "       'Functional', 'FireplaceQu', 'GarageType', 'GarageFinish', 'GarageQual',\n",
              "       'GarageCond', 'PavedDrive', 'PoolQC', 'Fence', 'MiscFeature',\n",
              "       'SaleType', 'SaleCondition'],\n",
              "      dtype='object')"
            ]
          },
          "metadata": {},
          "execution_count": 609
        }
      ],
      "source": [
        "categorical_features=df.select_dtypes(include=[np.object])\n",
        "categorical_features.columns"
      ]
    },
    {
      "cell_type": "markdown",
      "source": [
        "**Correlation**"
      ],
      "metadata": {
        "id": "6pqtWd35yKx5"
      }
    },
    {
      "cell_type": "code",
      "execution_count": 610,
      "metadata": {
        "colab": {
          "base_uri": "https://localhost:8080/"
        },
        "id": "JfIrdTDnAFVj",
        "outputId": "5398861b-7625-4f1e-d3db-7d7bcb8e8fc9"
      },
      "outputs": [
        {
          "output_type": "stream",
          "name": "stdout",
          "text": [
            "SalePrice        1.000000\n",
            "OverallQual      0.790982\n",
            "GrLivArea        0.708624\n",
            "GarageCars       0.640409\n",
            "GarageArea       0.623431\n",
            "TotalBsmtSF      0.613581\n",
            "1stFlrSF         0.605852\n",
            "FullBath         0.560664\n",
            "TotRmsAbvGrd     0.533723\n",
            "YearBuilt        0.522897\n",
            "YearRemodAdd     0.507101\n",
            "GarageYrBlt      0.486362\n",
            "MasVnrArea       0.477493\n",
            "Fireplaces       0.466929\n",
            "BsmtFinSF1       0.386420\n",
            "LotFrontage      0.351799\n",
            "WoodDeckSF       0.324413\n",
            "2ndFlrSF         0.319334\n",
            "OpenPorchSF      0.315856\n",
            "HalfBath         0.284108\n",
            "LotArea          0.263843\n",
            "BsmtFullBath     0.227122\n",
            "BsmtUnfSF        0.214479\n",
            "BedroomAbvGr     0.168213\n",
            "ScreenPorch      0.111447\n",
            "PoolArea         0.092404\n",
            "MoSold           0.046432\n",
            "3SsnPorch        0.044584\n",
            "BsmtFinSF2      -0.011378\n",
            "BsmtHalfBath    -0.016844\n",
            "MiscVal         -0.021190\n",
            "Id              -0.021917\n",
            "LowQualFinSF    -0.025606\n",
            "YrSold          -0.028923\n",
            "OverallCond     -0.077856\n",
            "MSSubClass      -0.084284\n",
            "EnclosedPorch   -0.128578\n",
            "KitchenAbvGr    -0.135907\n",
            "Name: SalePrice, dtype: float64 \n",
            "\n"
          ]
        }
      ],
      "source": [
        "correlation=numeric_features.corr()\n",
        "print(correlation['SalePrice'].sort_values(ascending=False),'\\n')"
      ]
    },
    {
      "cell_type": "code",
      "execution_count": 611,
      "metadata": {
        "colab": {
          "base_uri": "https://localhost:8080/",
          "height": 972
        },
        "id": "3X19VXqMncbn",
        "outputId": "7db70a88-fd97-4455-9afa-d8695211fcd5"
      },
      "outputs": [
        {
          "output_type": "display_data",
          "data": {
            "text/plain": [
              "<Figure size 1080x1080 with 2 Axes>"
            ],
            "image/png": "[encoded data removed]"
          },
          "metadata": {}
        }
      ],
      "source": [
        "#Annot=true -->Note that DataFrames will match on position, not index.\n",
        "plt.figure(figsize=(15,15))\n",
        "plt.title(\"Correlations Between Variables\", size=30)\n",
        "sns.heatmap(df.corr(), annot=True, annot_kws={\"fontsize\":5}, fmt=\".2f\", vmin=-1)\n",
        "plt.show()"
      ]
    },
    {
      "cell_type": "markdown",
      "metadata": {
        "id": "lsPpLxi7nGWw"
      },
      "source": [
        "**Feature Selection:**"
      ]
    },
    {
      "cell_type": "code",
      "execution_count": 612,
      "metadata": {
        "id": "k5nAWhxInJUC"
      },
      "outputs": [],
      "source": [
        "important_num_cols = list(df.corr()[\"SalePrice\"][(df.corr()[\"SalePrice\"]>0.50) | (df.corr()[\"SalePrice\"]<-0.50)].index)\n",
        "cat_cols = [\"MSZoning\", \"Utilities\",\"BldgType\",\"Heating\",\"KitchenQual\",\"SaleCondition\",\"LandSlope\"]\n",
        "important_cols = important_num_cols + cat_cols\n",
        "df = df[important_cols]"
      ]
    },
    {
      "cell_type": "markdown",
      "metadata": {
        "id": "adTixcZIuYM4"
      },
      "source": [
        "Visualizing the correlations between numerical variables  After Feature Selection:"
      ]
    },
    {
      "cell_type": "code",
      "execution_count": 613,
      "metadata": {
        "colab": {
          "base_uri": "https://localhost:8080/",
          "height": 700
        },
        "id": "qndHJM0ys9_n",
        "outputId": "b50509c7-0668-4230-b46e-9ea8e52ec757"
      },
      "outputs": [
        {
          "output_type": "display_data",
          "data": {
            "text/plain": [
              "<Figure size 720x720 with 2 Axes>"
            ],
            "image/png": "[encoded data removed]"
          },
          "metadata": {}
        }
      ],
      "source": [
        "plt.figure(figsize=(10,10))\n",
        "plt.title(\"Correlations Between Variables\", size=30)\n",
        "sns.heatmap(df.corr(), annot=True, annot_kws={\"fontsize\":5}, fmt=\".2f\", vmin=-1)\n",
        "plt.show()"
      ]
    },
    {
      "cell_type": "markdown",
      "metadata": {
        "id": "OAg8pll5s1qU"
      },
      "source": [
        "**Checking for the missing values:**"
      ]
    },
    {
      "cell_type": "code",
      "execution_count": 614,
      "metadata": {
        "colab": {
          "base_uri": "https://localhost:8080/"
        },
        "id": "VD2qdFctr4Wx",
        "outputId": "fe41ff09-3e3c-47e8-fe1e-bbbeebd03d45"
      },
      "outputs": [
        {
          "output_type": "stream",
          "name": "stdout",
          "text": [
            "Missing Values by Column\n",
            "------------------------------\n",
            "OverallQual      0\n",
            "YearBuilt        0\n",
            "YearRemodAdd     0\n",
            "TotalBsmtSF      0\n",
            "1stFlrSF         0\n",
            "GrLivArea        0\n",
            "FullBath         0\n",
            "TotRmsAbvGrd     0\n",
            "GarageCars       0\n",
            "GarageArea       0\n",
            "SalePrice        0\n",
            "MSZoning         0\n",
            "Utilities        0\n",
            "BldgType         0\n",
            "Heating          0\n",
            "KitchenQual      0\n",
            "SaleCondition    0\n",
            "LandSlope        0\n",
            "dtype: int64\n",
            "------------------------------\n",
            "TOTAL MISSING VALUES: 0\n"
          ]
        }
      ],
      "source": [
        "print(\"Missing Values by Column\")\n",
        "print(\"-\"*30)\n",
        "print(df.isna().sum())\n",
        "print(\"-\"*30)\n",
        "print(\"TOTAL MISSING VALUES:\",df.isna().sum().sum())"
      ]
    },
    {
      "cell_type": "markdown",
      "source": [
        "Boxplot"
      ],
      "metadata": {
        "id": "chr5_41P7xNK"
      }
    },
    {
      "cell_type": "code",
      "source": [
        "sns.boxplot(x=df[\"SalePrice\"])"
      ],
      "metadata": {
        "colab": {
          "base_uri": "https://localhost:8080/",
          "height": 523
        },
        "id": "8ibjBYyi7ya5",
        "outputId": "c800efd7-30b2-4c55-a95e-cc5b56275fd5"
      },
      "execution_count": 615,
      "outputs": [
        {
          "output_type": "execute_result",
          "data": {
            "text/plain": [
              "<matplotlib.axes._subplots.AxesSubplot at 0x7fc1617bf6d0>"
            ]
          },
          "metadata": {},
          "execution_count": 615
        },
        {
          "output_type": "display_data",
          "data": {
            "text/plain": [
              "<Figure size 864x576 with 1 Axes>"
            ],
            "image/png": "[encoded data removed]"
          },
          "metadata": {}
        }
      ]
    },
    {
      "cell_type": "code",
      "source": [
        "first_quartile=df['SalePrice'].quantile(.25)\n",
        "third_quartile=df['SalePrice'].quantile(.75)\n",
        "IQR=first_quartile+third_quartile"
      ],
      "metadata": {
        "id": "uKHw6JI8sm-e"
      },
      "execution_count": 616,
      "outputs": []
    },
    {
      "cell_type": "code",
      "source": [
        "new_boundary=third_quartile+ 3*IQR"
      ],
      "metadata": {
        "id": "4UZ_FJyAtKnV"
      },
      "execution_count": 617,
      "outputs": []
    },
    {
      "cell_type": "code",
      "source": [
        "df.drop(df[df['SalePrice']>new_boundary].index,axis=0,inplace=True)"
      ],
      "metadata": {
        "id": "bVcx3M0HtbWp"
      },
      "execution_count": 618,
      "outputs": []
    },
    {
      "cell_type": "code",
      "execution_count": 619,
      "metadata": {
        "id": "dXShf81Fy3Xg"
      },
      "outputs": [],
      "source": [
        "X = df.drop(\"SalePrice\", axis=1)\n",
        "y = df[\"SalePrice\"]"
      ]
    },
    {
      "cell_type": "code",
      "execution_count": 620,
      "metadata": {
        "colab": {
          "base_uri": "https://localhost:8080/"
        },
        "id": "xAEgQbR8MU24",
        "outputId": "80fe60ee-bbd5-4439-e9d5-ec88ca820031"
      },
      "outputs": [
        {
          "output_type": "stream",
          "name": "stdout",
          "text": [
            "<class 'pandas.core.frame.DataFrame'>\n",
            "Int64Index: 1460 entries, 0 to 1459\n",
            "Data columns (total 17 columns):\n",
            " #   Column         Non-Null Count  Dtype \n",
            "---  ------         --------------  ----- \n",
            " 0   OverallQual    1460 non-null   int64 \n",
            " 1   YearBuilt      1460 non-null   int64 \n",
            " 2   YearRemodAdd   1460 non-null   int64 \n",
            " 3   TotalBsmtSF    1460 non-null   int64 \n",
            " 4   1stFlrSF       1460 non-null   int64 \n",
            " 5   GrLivArea      1460 non-null   int64 \n",
            " 6   FullBath       1460 non-null   int64 \n",
            " 7   TotRmsAbvGrd   1460 non-null   int64 \n",
            " 8   GarageCars     1460 non-null   int64 \n",
            " 9   GarageArea     1460 non-null   int64 \n",
            " 10  MSZoning       1460 non-null   object\n",
            " 11  Utilities      1460 non-null   object\n",
            " 12  BldgType       1460 non-null   object\n",
            " 13  Heating        1460 non-null   object\n",
            " 14  KitchenQual    1460 non-null   object\n",
            " 15  SaleCondition  1460 non-null   object\n",
            " 16  LandSlope      1460 non-null   object\n",
            "dtypes: int64(10), object(7)\n",
            "memory usage: 205.3+ KB\n"
          ]
        }
      ],
      "source": [
        "X.info()"
      ]
    },
    {
      "cell_type": "code",
      "execution_count": 621,
      "metadata": {
        "id": "YQwtswtz4QSf"
      },
      "outputs": [],
      "source": [
        "X = pd.get_dummies(X, columns=cat_cols)"
      ]
    },
    {
      "cell_type": "code",
      "execution_count": 622,
      "metadata": {
        "id": "oaZN5DNz4TZw"
      },
      "outputs": [],
      "source": [
        "important_num_cols.remove(\"SalePrice\")\n",
        "scaler = StandardScaler()\n",
        "X[important_num_cols] = scaler.fit_transform(X[important_num_cols])"
      ]
    },
    {
      "cell_type": "code",
      "execution_count": 623,
      "metadata": {
        "colab": {
          "base_uri": "https://localhost:8080/",
          "height": 488
        },
        "id": "GQbpos1f4VnQ",
        "outputId": "061e43a6-c36d-4975-f429-cfb5034630fc"
      },
      "outputs": [
        {
          "output_type": "execute_result",
          "data": {
            "text/plain": [
              "    OverallQual  YearBuilt  YearRemodAdd  TotalBsmtSF  1stFlrSF  GrLivArea  \\\n",
              "0      0.651479   1.050994      0.878668    -0.459303 -0.793434   0.370333   \n",
              "1     -0.071836   0.156734     -0.429577     0.466465  0.257140  -0.482512   \n",
              "2      0.651479   0.984752      0.830215    -0.313369 -0.627826   0.515013   \n",
              "3      0.651479  -1.863632     -0.720298    -0.687324 -0.521734   0.383659   \n",
              "4      1.374795   0.951632      0.733308     0.199680 -0.045611   1.299326   \n",
              "..          ...        ...           ...          ...       ...        ...   \n",
              "95    -0.071836   0.719786      0.394133    -0.860620 -1.248855  -0.086548   \n",
              "96     0.651479   0.918511      0.684854     1.209815  1.100705   0.138085   \n",
              "97    -1.518467  -0.207594     -0.962566    -0.222160 -0.524321  -1.057421   \n",
              "98    -0.795151  -1.698028     -1.689368    -1.366828 -0.847774  -1.295380   \n",
              "99    -1.518467  -0.406319     -1.253287    -0.244962  0.161398  -0.552948   \n",
              "\n",
              "    FullBath  TotRmsAbvGrd  GarageCars  GarageArea  ...  KitchenQual_TA  \\\n",
              "0   0.789741      0.912210    0.311725    0.351000  ...               0   \n",
              "1   0.789741     -0.318683    0.311725   -0.060731  ...               1   \n",
              "2   0.789741     -0.318683    0.311725    0.631726  ...               0   \n",
              "3  -1.026041      0.296763    1.650307    0.790804  ...               0   \n",
              "4   0.789741      1.527656    1.650307    1.698485  ...               0   \n",
              "..       ...           ...         ...         ...  ...             ...   \n",
              "95  0.789741     -0.318683    0.311725   -0.247882  ...               1   \n",
              "96  0.789741     -0.318683    0.311725   -0.004586  ...               0   \n",
              "97 -1.026041     -0.318683   -1.026858   -0.191736  ...               1   \n",
              "98 -1.026041     -0.934130   -1.026858   -0.500535  ...               1   \n",
              "99 -1.026041     -0.318683   -2.365440   -2.212963  ...               1   \n",
              "\n",
              "    SaleCondition_Abnorml  SaleCondition_AdjLand  SaleCondition_Alloca  \\\n",
              "0                       0                      0                     0   \n",
              "1                       0                      0                     0   \n",
              "2                       0                      0                     0   \n",
              "3                       1                      0                     0   \n",
              "4                       0                      0                     0   \n",
              "..                    ...                    ...                   ...   \n",
              "95                      0                      0                     0   \n",
              "96                      0                      0                     0   \n",
              "97                      0                      0                     0   \n",
              "98                      1                      0                     0   \n",
              "99                      0                      0                     0   \n",
              "\n",
              "    SaleCondition_Family  SaleCondition_Normal  SaleCondition_Partial  \\\n",
              "0                      0                     1                      0   \n",
              "1                      0                     1                      0   \n",
              "2                      0                     1                      0   \n",
              "3                      0                     0                      0   \n",
              "4                      0                     1                      0   \n",
              "..                   ...                   ...                    ...   \n",
              "95                     0                     1                      0   \n",
              "96                     0                     1                      0   \n",
              "97                     0                     1                      0   \n",
              "98                     0                     0                      0   \n",
              "99                     0                     1                      0   \n",
              "\n",
              "    LandSlope_Gtl  LandSlope_Mod  LandSlope_Sev  \n",
              "0               1              0              0  \n",
              "1               1              0              0  \n",
              "2               1              0              0  \n",
              "3               1              0              0  \n",
              "4               1              0              0  \n",
              "..            ...            ...            ...  \n",
              "95              1              0              0  \n",
              "96              1              0              0  \n",
              "97              1              0              0  \n",
              "98              1              0              0  \n",
              "99              1              0              0  \n",
              "\n",
              "[100 rows x 41 columns]"
            ],
            "text/html": [
              "\n",
              "  <div id=\"df-7e3e373b-3b58-42ae-8715-9904c1a29a7a\">\n",
              "    <div class=\"colab-df-container\">\n",
              "      <div>\n",
              "<style scoped>\n",
              "    .dataframe tbody tr th:only-of-type {\n",
              "        vertical-align: middle;\n",
              "    }\n",
              "\n",
              "    .dataframe tbody tr th {\n",
              "        vertical-align: top;\n",
              "    }\n",
              "\n",
              "    .dataframe thead th {\n",
              "        text-align: right;\n",
              "    }\n",
              "</style>\n",
              "<table border=\"1\" class=\"dataframe\">\n",
              "  <thead>\n",
              "    <tr style=\"text-align: right;\">\n",
              "      <th></th>\n",
              "      <th>OverallQual</th>\n",
              "      <th>YearBuilt</th>\n",
              "      <th>YearRemodAdd</th>\n",
              "      <th>TotalBsmtSF</th>\n",
              "      <th>1stFlrSF</th>\n",
              "      <th>GrLivArea</th>\n",
              "      <th>FullBath</th>\n",
              "      <th>TotRmsAbvGrd</th>\n",
              "      <th>GarageCars</th>\n",
              "      <th>GarageArea</th>\n",
              "      <th>...</th>\n",
              "      <th>KitchenQual_TA</th>\n",
              "      <th>SaleCondition_Abnorml</th>\n",
              "      <th>SaleCondition_AdjLand</th>\n",
              "      <th>SaleCondition_Alloca</th>\n",
              "      <th>SaleCondition_Family</th>\n",
              "      <th>SaleCondition_Normal</th>\n",
              "      <th>SaleCondition_Partial</th>\n",
              "      <th>LandSlope_Gtl</th>\n",
              "      <th>LandSlope_Mod</th>\n",
              "      <th>LandSlope_Sev</th>\n",
              "    </tr>\n",
              "  </thead>\n",
              "  <tbody>\n",
              "    <tr>\n",
              "      <th>0</th>\n",
              "      <td>0.651479</td>\n",
              "      <td>1.050994</td>\n",
              "      <td>0.878668</td>\n",
              "      <td>-0.459303</td>\n",
              "      <td>-0.793434</td>\n",
              "      <td>0.370333</td>\n",
              "      <td>0.789741</td>\n",
              "      <td>0.912210</td>\n",
              "      <td>0.311725</td>\n",
              "      <td>0.351000</td>\n",
              "      <td>...</td>\n",
              "      <td>0</td>\n",
              "      <td>0</td>\n",
              "      <td>0</td>\n",
              "      <td>0</td>\n",
              "      <td>0</td>\n",
              "      <td>1</td>\n",
              "      <td>0</td>\n",
              "      <td>1</td>\n",
              "      <td>0</td>\n",
              "      <td>0</td>\n",
              "    </tr>\n",
              "    <tr>\n",
              "      <th>1</th>\n",
              "      <td>-0.071836</td>\n",
              "      <td>0.156734</td>\n",
              "      <td>-0.429577</td>\n",
              "      <td>0.466465</td>\n",
              "      <td>0.257140</td>\n",
              "      <td>-0.482512</td>\n",
              "      <td>0.789741</td>\n",
              "      <td>-0.318683</td>\n",
              "      <td>0.311725</td>\n",
              "      <td>-0.060731</td>\n",
              "      <td>...</td>\n",
              "      <td>1</td>\n",
              "      <td>0</td>\n",
              "      <td>0</td>\n",
              "      <td>0</td>\n",
              "      <td>0</td>\n",
              "      <td>1</td>\n",
              "      <td>0</td>\n",
              "      <td>1</td>\n",
              "      <td>0</td>\n",
              "      <td>0</td>\n",
              "    </tr>\n",
              "    <tr>\n",
              "      <th>2</th>\n",
              "      <td>0.651479</td>\n",
              "      <td>0.984752</td>\n",
              "      <td>0.830215</td>\n",
              "      <td>-0.313369</td>\n",
              "      <td>-0.627826</td>\n",
              "      <td>0.515013</td>\n",
              "      <td>0.789741</td>\n",
              "      <td>-0.318683</td>\n",
              "      <td>0.311725</td>\n",
              "      <td>0.631726</td>\n",
              "      <td>...</td>\n",
              "      <td>0</td>\n",
              "      <td>0</td>\n",
              "      <td>0</td>\n",
              "      <td>0</td>\n",
              "      <td>0</td>\n",
              "      <td>1</td>\n",
              "      <td>0</td>\n",
              "      <td>1</td>\n",
              "      <td>0</td>\n",
              "      <td>0</td>\n",
              "    </tr>\n",
              "    <tr>\n",
              "      <th>3</th>\n",
              "      <td>0.651479</td>\n",
              "      <td>-1.863632</td>\n",
              "      <td>-0.720298</td>\n",
              "      <td>-0.687324</td>\n",
              "      <td>-0.521734</td>\n",
              "      <td>0.383659</td>\n",
              "      <td>-1.026041</td>\n",
              "      <td>0.296763</td>\n",
              "      <td>1.650307</td>\n",
              "      <td>0.790804</td>\n",
              "      <td>...</td>\n",
              "      <td>0</td>\n",
              "      <td>1</td>\n",
              "      <td>0</td>\n",
              "      <td>0</td>\n",
              "      <td>0</td>\n",
              "      <td>0</td>\n",
              "      <td>0</td>\n",
              "      <td>1</td>\n",
              "      <td>0</td>\n",
              "      <td>0</td>\n",
              "    </tr>\n",
              "    <tr>\n",
              "      <th>4</th>\n",
              "      <td>1.374795</td>\n",
              "      <td>0.951632</td>\n",
              "      <td>0.733308</td>\n",
              "      <td>0.199680</td>\n",
              "      <td>-0.045611</td>\n",
              "      <td>1.299326</td>\n",
              "      <td>0.789741</td>\n",
              "      <td>1.527656</td>\n",
              "      <td>1.650307</td>\n",
              "      <td>1.698485</td>\n",
              "      <td>...</td>\n",
              "      <td>0</td>\n",
              "      <td>0</td>\n",
              "      <td>0</td>\n",
              "      <td>0</td>\n",
              "      <td>0</td>\n",
              "      <td>1</td>\n",
              "      <td>0</td>\n",
              "      <td>1</td>\n",
              "      <td>0</td>\n",
              "      <td>0</td>\n",
              "    </tr>\n",
              "    <tr>\n",
              "      <th>...</th>\n",
              "      <td>...</td>\n",
              "      <td>...</td>\n",
              "      <td>...</td>\n",
              "      <td>...</td>\n",
              "      <td>...</td>\n",
              "      <td>...</td>\n",
              "      <td>...</td>\n",
              "      <td>...</td>\n",
              "      <td>...</td>\n",
              "      <td>...</td>\n",
              "      <td>...</td>\n",
              "      <td>...</td>\n",
              "      <td>...</td>\n",
              "      <td>...</td>\n",
              "      <td>...</td>\n",
              "      <td>...</td>\n",
              "      <td>...</td>\n",
              "      <td>...</td>\n",
              "      <td>...</td>\n",
              "      <td>...</td>\n",
              "      <td>...</td>\n",
              "    </tr>\n",
              "    <tr>\n",
              "      <th>95</th>\n",
              "      <td>-0.071836</td>\n",
              "      <td>0.719786</td>\n",
              "      <td>0.394133</td>\n",
              "      <td>-0.860620</td>\n",
              "      <td>-1.248855</td>\n",
              "      <td>-0.086548</td>\n",
              "      <td>0.789741</td>\n",
              "      <td>-0.318683</td>\n",
              "      <td>0.311725</td>\n",
              "      <td>-0.247882</td>\n",
              "      <td>...</td>\n",
              "      <td>1</td>\n",
              "      <td>0</td>\n",
              "      <td>0</td>\n",
              "      <td>0</td>\n",
              "      <td>0</td>\n",
              "      <td>1</td>\n",
              "      <td>0</td>\n",
              "      <td>1</td>\n",
              "      <td>0</td>\n",
              "      <td>0</td>\n",
              "    </tr>\n",
              "    <tr>\n",
              "      <th>96</th>\n",
              "      <td>0.651479</td>\n",
              "      <td>0.918511</td>\n",
              "      <td>0.684854</td>\n",
              "      <td>1.209815</td>\n",
              "      <td>1.100705</td>\n",
              "      <td>0.138085</td>\n",
              "      <td>0.789741</td>\n",
              "      <td>-0.318683</td>\n",
              "      <td>0.311725</td>\n",
              "      <td>-0.004586</td>\n",
              "      <td>...</td>\n",
              "      <td>0</td>\n",
              "      <td>0</td>\n",
              "      <td>0</td>\n",
              "      <td>0</td>\n",
              "      <td>0</td>\n",
              "      <td>1</td>\n",
              "      <td>0</td>\n",
              "      <td>1</td>\n",
              "      <td>0</td>\n",
              "      <td>0</td>\n",
              "    </tr>\n",
              "    <tr>\n",
              "      <th>97</th>\n",
              "      <td>-1.518467</td>\n",
              "      <td>-0.207594</td>\n",
              "      <td>-0.962566</td>\n",
              "      <td>-0.222160</td>\n",
              "      <td>-0.524321</td>\n",
              "      <td>-1.057421</td>\n",
              "      <td>-1.026041</td>\n",
              "      <td>-0.318683</td>\n",
              "      <td>-1.026858</td>\n",
              "      <td>-0.191736</td>\n",
              "      <td>...</td>\n",
              "      <td>1</td>\n",
              "      <td>0</td>\n",
              "      <td>0</td>\n",
              "      <td>0</td>\n",
              "      <td>0</td>\n",
              "      <td>1</td>\n",
              "      <td>0</td>\n",
              "      <td>1</td>\n",
              "      <td>0</td>\n",
              "      <td>0</td>\n",
              "    </tr>\n",
              "    <tr>\n",
              "      <th>98</th>\n",
              "      <td>-0.795151</td>\n",
              "      <td>-1.698028</td>\n",
              "      <td>-1.689368</td>\n",
              "      <td>-1.366828</td>\n",
              "      <td>-0.847774</td>\n",
              "      <td>-1.295380</td>\n",
              "      <td>-1.026041</td>\n",
              "      <td>-0.934130</td>\n",
              "      <td>-1.026858</td>\n",
              "      <td>-0.500535</td>\n",
              "      <td>...</td>\n",
              "      <td>1</td>\n",
              "      <td>1</td>\n",
              "      <td>0</td>\n",
              "      <td>0</td>\n",
              "      <td>0</td>\n",
              "      <td>0</td>\n",
              "      <td>0</td>\n",
              "      <td>1</td>\n",
              "      <td>0</td>\n",
              "      <td>0</td>\n",
              "    </tr>\n",
              "    <tr>\n",
              "      <th>99</th>\n",
              "      <td>-1.518467</td>\n",
              "      <td>-0.406319</td>\n",
              "      <td>-1.253287</td>\n",
              "      <td>-0.244962</td>\n",
              "      <td>0.161398</td>\n",
              "      <td>-0.552948</td>\n",
              "      <td>-1.026041</td>\n",
              "      <td>-0.318683</td>\n",
              "      <td>-2.365440</td>\n",
              "      <td>-2.212963</td>\n",
              "      <td>...</td>\n",
              "      <td>1</td>\n",
              "      <td>0</td>\n",
              "      <td>0</td>\n",
              "      <td>0</td>\n",
              "      <td>0</td>\n",
              "      <td>1</td>\n",
              "      <td>0</td>\n",
              "      <td>1</td>\n",
              "      <td>0</td>\n",
              "      <td>0</td>\n",
              "    </tr>\n",
              "  </tbody>\n",
              "</table>\n",
              "<p>100 rows × 41 columns</p>\n",
              "</div>\n",
              "      <button class=\"colab-df-convert\" onclick=\"convertToInteractive('df-7e3e373b-3b58-42ae-8715-9904c1a29a7a')\"\n",
              "              title=\"Convert this dataframe to an interactive table.\"\n",
              "              style=\"display:none;\">\n",
              "        \n",
              "  <svg xmlns=\"http://www.w3.org/2000/svg\" height=\"24px\"viewBox=\"0 0 24 24\"\n",
              "       width=\"24px\">\n",
              "    <path d=\"M0 0h24v24H0V0z\" fill=\"none\"/>\n",
              "    <path d=\"M18.56 5.44l.94 2.06.94-2.06 2.06-.94-2.06-.94-.94-2.06-.94 2.06-2.06.94zm-11 1L8.5 8.5l.94-2.06 2.06-.94-2.06-.94L8.5 2.5l-.94 2.06-2.06.94zm10 10l.94 2.06.94-2.06 2.06-.94-2.06-.94-.94-2.06-.94 2.06-2.06.94z\"/><path d=\"M17.41 7.96l-1.37-1.37c-.4-.4-.92-.59-1.43-.59-.52 0-1.04.2-1.43.59L10.3 9.45l-7.72 7.72c-.78.78-.78 2.05 0 2.83L4 21.41c.39.39.9.59 1.41.59.51 0 1.02-.2 1.41-.59l7.78-7.78 2.81-2.81c.8-.78.8-2.07 0-2.86zM5.41 20L4 18.59l7.72-7.72 1.47 1.35L5.41 20z\"/>\n",
              "  </svg>\n",
              "      </button>\n",
              "      \n",
              "  <style>\n",
              "    .colab-df-container {\n",
              "      display:flex;\n",
              "      flex-wrap:wrap;\n",
              "      gap: 12px;\n",
              "    }\n",
              "\n",
              "    .colab-df-convert {\n",
              "      background-color: #E8F0FE;\n",
              "      border: none;\n",
              "      border-radius: 50%;\n",
              "      cursor: pointer;\n",
              "      display: none;\n",
              "      fill: #1967D2;\n",
              "      height: 32px;\n",
              "      padding: 0 0 0 0;\n",
              "      width: 32px;\n",
              "    }\n",
              "\n",
              "    .colab-df-convert:hover {\n",
              "      background-color: #E2EBFA;\n",
              "      box-shadow: 0px 1px 2px rgba(60, 64, 67, 0.3), 0px 1px 3px 1px rgba(60, 64, 67, 0.15);\n",
              "      fill: #174EA6;\n",
              "    }\n",
              "\n",
              "    [theme=dark] .colab-df-convert {\n",
              "      background-color: #3B4455;\n",
              "      fill: #D2E3FC;\n",
              "    }\n",
              "\n",
              "    [theme=dark] .colab-df-convert:hover {\n",
              "      background-color: #434B5C;\n",
              "      box-shadow: 0px 1px 3px 1px rgba(0, 0, 0, 0.15);\n",
              "      filter: drop-shadow(0px 1px 2px rgba(0, 0, 0, 0.3));\n",
              "      fill: #FFFFFF;\n",
              "    }\n",
              "  </style>\n",
              "\n",
              "      <script>\n",
              "        const buttonEl =\n",
              "          document.querySelector('#df-7e3e373b-3b58-42ae-8715-9904c1a29a7a button.colab-df-convert');\n",
              "        buttonEl.style.display =\n",
              "          google.colab.kernel.accessAllowed ? 'block' : 'none';\n",
              "\n",
              "        async function convertToInteractive(key) {\n",
              "          const element = document.querySelector('#df-7e3e373b-3b58-42ae-8715-9904c1a29a7a');\n",
              "          const dataTable =\n",
              "            await google.colab.kernel.invokeFunction('convertToInteractive',\n",
              "                                                     [key], {});\n",
              "          if (!dataTable) return;\n",
              "\n",
              "          const docLinkHtml = 'Like what you see? Visit the ' +\n",
              "            '<a target=\"_blank\" href=https://colab.research.google.com/notebooks/data_table.ipynb>data table notebook</a>'\n",
              "            + ' to learn more about interactive tables.';\n",
              "          element.innerHTML = '';\n",
              "          dataTable['output_type'] = 'display_data';\n",
              "          await google.colab.output.renderOutput(dataTable, element);\n",
              "          const docLink = document.createElement('div');\n",
              "          docLink.innerHTML = docLinkHtml;\n",
              "          element.appendChild(docLink);\n",
              "        }\n",
              "      </script>\n",
              "    </div>\n",
              "  </div>\n",
              "  "
            ]
          },
          "metadata": {},
          "execution_count": 623
        }
      ],
      "source": [
        "X.head(100)"
      ]
    },
    {
      "cell_type": "markdown",
      "metadata": {
        "id": "QHEL-8QJ_AJS"
      },
      "source": [
        "**Splitting the data into Train and Test chunks for better evaluation**"
      ]
    },
    {
      "cell_type": "code",
      "execution_count": 624,
      "metadata": {
        "id": "HFODG-xQ4axu"
      },
      "outputs": [],
      "source": [
        "X_train, X_test, y_train, y_test = train_test_split(X, y, test_size=0.3, random_state=None)"
      ]
    },
    {
      "cell_type": "code",
      "execution_count": 625,
      "metadata": {
        "colab": {
          "base_uri": "https://localhost:8080/"
        },
        "id": "GKPLUBO24kQv",
        "outputId": "9cdf1ba8-1ea1-4562-e780-cf66f43b4223"
      },
      "outputs": [
        {
          "output_type": "stream",
          "name": "stdout",
          "text": [
            "Shape of train data   (1022, 41) (1022,)\n",
            "Shape of test data  (438, 41) (438,)\n"
          ]
        }
      ],
      "source": [
        "print(\"Shape of train data  \",X_train.shape, y_train.shape) \n",
        "print(\"Shape of test data \", X_test.shape, y_test.shape) "
      ]
    },
    {
      "cell_type": "markdown",
      "metadata": {
        "id": "QVgi5gXXgA1y"
      },
      "source": [
        "**Linear Regression:**"
      ]
    },
    {
      "cell_type": "code",
      "execution_count": 626,
      "metadata": {
        "id": "2--g7YtU4pP3"
      },
      "outputs": [],
      "source": [
        "from sklearn.linear_model import LinearRegression\n",
        "lreg = LinearRegression()\n",
        "lreg.fit(X_train, y_train)\n",
        "y_pred = lreg.predict(X_test)"
      ]
    },
    {
      "cell_type": "code",
      "execution_count": 627,
      "metadata": {
        "id": "W0qqFgrl8QSe"
      },
      "outputs": [],
      "source": [
        "def rmse_cv(model):\n",
        "    rmse = np.sqrt(-cross_val_score(model, X, y, scoring=\"neg_mean_squared_error\", cv=5)).mean()\n",
        "    return rmse\n",
        "def evaluation(y,predictions):\n",
        "    mae = mean_absolute_error(y, predictions)\n",
        "    mse = mean_squared_error(y, predictions)\n",
        "    rmse = np.sqrt(mean_squared_error(y, predictions))\n",
        "    r_squared = r2_score(y, predictions)\n",
        "    return mae, mse, rmse, r_squared"
      ]
    },
    {
      "cell_type": "code",
      "execution_count": 628,
      "metadata": {
        "id": "KTrfH4jZ8cXX"
      },
      "outputs": [],
      "source": [
        "models = pd.DataFrame(columns=[\"Model\",\"MAE\",\"MSE\",\"RMSE\",\"R2 Score\",\"RMSE (Cross-Validation)\"])"
      ]
    },
    {
      "cell_type": "code",
      "execution_count": 629,
      "metadata": {
        "colab": {
          "base_uri": "https://localhost:8080/"
        },
        "id": "pOx9ZFPd8gou",
        "outputId": "5f80957c-6b86-4970-adcd-f64c636bf506"
      },
      "outputs": [
        {
          "output_type": "stream",
          "name": "stdout",
          "text": [
            "MAE: 20744.485263945484\n",
            "MSE: 1077924437.7930937\n",
            "RMSE: 32831.75959026707\n",
            "R2 Score: 0.8389321734234549\n",
            "Accuracy train:  0.794113103765203\n",
            "Accuracy test:  0.8389321734234549\n",
            "------------------------------\n",
            "RMSE Cross-Validation: 35933.128976293614\n"
          ]
        }
      ],
      "source": [
        "lin_reg = LinearRegression()\n",
        "lin_reg.fit(X_train, y_train)\n",
        "predictions = lin_reg.predict(X_test)\n",
        "mae, mse, rmse, r_squared = evaluation(y_test, predictions)\n",
        "print(\"MAE:\", mae)\n",
        "print(\"MSE:\", mse)\n",
        "print(\"RMSE:\", rmse)\n",
        "print(\"R2 Score:\", r_squared)\n",
        "accuracy_train = lreg.score(X_train,y_train)\n",
        "accuracy_test = lreg.score(X_test, y_test)\n",
        "print('Accuracy train: ',accuracy_train)\n",
        "print('Accuracy test: ',accuracy_test)\n",
        "print(\"-\"*30)\n",
        "rmse_cross_val = rmse_cv(lin_reg)\n",
        "print(\"RMSE Cross-Validation:\", rmse_cross_val)\n",
        "\n",
        "new_row = {\"Model\": \"LinearRegression\",\"MAE\": mae, \"MSE\": mse, \"RMSE\": rmse, \"R2 Score\": r_squared, \"RMSE (Cross-Validation)\": rmse_cross_val}\n",
        "models = models.append(new_row, ignore_index=True)"
      ]
    },
    {
      "cell_type": "code",
      "execution_count": 630,
      "metadata": {
        "colab": {
          "base_uri": "https://localhost:8080/",
          "height": 522
        },
        "id": "eXaVSBm5gKV3",
        "outputId": "b2295131-de81-4feb-c034-fd273981bdcb"
      },
      "outputs": [
        {
          "output_type": "display_data",
          "data": {
            "text/plain": [
              "<Figure size 864x576 with 1 Axes>"
            ],
            "image/png": "[encoded data removed]"
          },
          "metadata": {}
        }
      ],
      "source": [
        "# Plotting Scatter graph to show the prediction\n",
        "# results - 'ytrue' value vs 'y_pred' value\n",
        "x = np.linspace(0, 1500000, 150000)\n",
        "plt.plot(x, x, color='k',linestyle=\"--\")\n",
        "plt.scatter(y_test, y_pred, c = 'green')\n",
        "plt.xlabel(\"Price: in $1000's\")\n",
        "plt.ylabel(\"Predicted value\")\n",
        "plt.title(\"True value vs predicted value : Linear Regression\")\n",
        "plt.show()"
      ]
    },
    {
      "cell_type": "markdown",
      "metadata": {
        "id": "4fEjBXTTHE1p"
      },
      "source": [
        "**Lasso**"
      ]
    },
    {
      "cell_type": "code",
      "execution_count": 631,
      "metadata": {
        "id": "8BppEon4HgFv"
      },
      "outputs": [],
      "source": [
        "lasso = Lasso()\n",
        "lasso.fit(X_train, y_train)\n",
        "y_pred1 = lasso.predict(X_test)\n",
        "predictions = lasso.predict(X_test)"
      ]
    },
    {
      "cell_type": "code",
      "execution_count": 632,
      "metadata": {
        "colab": {
          "base_uri": "https://localhost:8080/"
        },
        "id": "Qmki8SJMH7zm",
        "outputId": "603683fe-46cc-44e0-fa99-c9f53feb732b"
      },
      "outputs": [
        {
          "output_type": "stream",
          "name": "stdout",
          "text": [
            "MAE: 20744.485263945484\n",
            "MSE: 1077933923.054736\n",
            "RMSE: 32831.904042481845\n",
            "R2 Score: 0.8389307560973199\n",
            "------------------------------\n",
            "RMSE Cross-Validation: 35922.76936876075\n",
            "Accuracy train:  0.794112442830406\n",
            "Accuracy test:  0.8389307560973199\n"
          ]
        }
      ],
      "source": [
        "mmae, mse, rmse, r_squared = evaluation(y_test, predictions)\n",
        "print(\"MAE:\", mae)\n",
        "print(\"MSE:\", mse)\n",
        "print(\"RMSE:\", rmse)\n",
        "print(\"R2 Score:\", r_squared)\n",
        "print(\"-\"*30)\n",
        "rmse_cross_val = rmse_cv(lasso)\n",
        "print(\"RMSE Cross-Validation:\", rmse_cross_val)\n",
        "new_row = {\"Model\": \"Lasso\",\"MAE\": mae, \"MSE\": mse, \"RMSE\": rmse, \"R2 Score\": r_squared, \"RMSE (Cross-Validation)\": rmse_cross_val}\n",
        "models = models.append(new_row, ignore_index=True)\n",
        "accuracy_train = lasso.score(X_train,y_train)\n",
        "accuracy_test = lasso.score(X_test, y_test)\n",
        "print('Accuracy train: ',accuracy_train)\n",
        "print('Accuracy test: ',accuracy_test)"
      ]
    },
    {
      "cell_type": "code",
      "execution_count": 633,
      "metadata": {
        "colab": {
          "base_uri": "https://localhost:8080/"
        },
        "id": "2bgKkoR7J1bR",
        "outputId": "400f7cbc-a218-4afd-de9e-bbfad34d5db7"
      },
      "outputs": [
        {
          "output_type": "execute_result",
          "data": {
            "text/plain": [
              "Pipeline(steps=[('poly feature', PolynomialFeatures()),\n",
              "                ('regressor', Lasso(alpha=0.1))])"
            ]
          },
          "metadata": {},
          "execution_count": 633
        }
      ],
      "source": [
        "steps = [('poly feature', PolynomialFeatures(degree=2)),\n",
        "         ('regressor', Lasso(alpha=0.1))]\n",
        "LR = Pipeline(steps=steps)\n",
        "LR.fit(X_train, y_train)"
      ]
    },
    {
      "cell_type": "code",
      "execution_count": 634,
      "metadata": {
        "colab": {
          "base_uri": "https://localhost:8080/"
        },
        "id": "Ou99G6ITd5mo",
        "outputId": "161402f2-dd3d-4ba2-bc6f-c6e170f690c1"
      },
      "outputs": [
        {
          "output_type": "execute_result",
          "data": {
            "text/plain": [
              "Pipeline(steps=[('poly feature', PolynomialFeatures()),\n",
              "                ('regressor', Lasso(alpha=0.1))])"
            ]
          },
          "metadata": {},
          "execution_count": 634
        }
      ],
      "source": [
        "Pipeline(steps=[('poly feature', PolynomialFeatures()),\n",
        "                ('regressor', Lasso(alpha=0.1))])"
      ]
    },
    {
      "cell_type": "code",
      "execution_count": 635,
      "metadata": {
        "colab": {
          "base_uri": "https://localhost:8080/",
          "height": 506
        },
        "id": "-tVBkI6XeLry",
        "outputId": "721140c4-0e39-4c83-8a4e-3fad347bb4f8"
      },
      "outputs": [
        {
          "output_type": "display_data",
          "data": {
            "text/plain": [
              "<Figure size 864x576 with 1 Axes>"
            ],
            "image/png": "[encoded data removed]"
          },
          "metadata": {}
        }
      ],
      "source": [
        "y_pred = LR.predict(X_test)\n",
        "\n",
        "x = np.linspace(0, max(np.max(y_test), np.max(y_pred)), 15000)\n",
        "plt.plot(x, x,color='k',linestyle=\"--\")\n",
        "plt.scatter(y_test, y_pred, alpha=0.5,c=\"green\");\n",
        "plt.xlabel('y_true');\n",
        "plt.ylabel('y_pred');"
      ]
    },
    {
      "cell_type": "code",
      "execution_count": 636,
      "metadata": {
        "colab": {
          "base_uri": "https://localhost:8080/"
        },
        "id": "Y5m2_19HIZCP",
        "outputId": "5a522c79-b816-4fd4-ff0d-39da59794ecd"
      },
      "outputs": [
        {
          "output_type": "stream",
          "name": "stdout",
          "text": [
            "                  Columns  Coefficient Estimate\n",
            "0             OverallQual          23252.329389\n",
            "1               YearBuilt           6744.768456\n",
            "2            YearRemodAdd           3688.053720\n",
            "3             TotalBsmtSF           3728.657863\n",
            "4                1stFlrSF           3895.884180\n",
            "5               GrLivArea          24008.759770\n",
            "6                FullBath          -1980.420889\n",
            "7            TotRmsAbvGrd           -419.391569\n",
            "8              GarageCars          11439.181965\n",
            "9              GarageArea           -500.190791\n",
            "10       MSZoning_C (all)         -20031.041077\n",
            "11            MSZoning_FV              0.000000\n",
            "12            MSZoning_RH          10936.154085\n",
            "13            MSZoning_RL           3607.923419\n",
            "14            MSZoning_RM          -6485.010140\n",
            "15       Utilities_AllPub              0.000000\n",
            "16       Utilities_NoSeWa              0.000000\n",
            "17          BldgType_1Fam          11999.817226\n",
            "18        BldgType_2fmCon           6881.108585\n",
            "19        BldgType_Duplex         -11617.632585\n",
            "20         BldgType_Twnhs          -8213.187870\n",
            "21        BldgType_TwnhsE              0.000000\n",
            "22          Heating_Floor          17337.771879\n",
            "23           Heating_GasA           1889.502108\n",
            "24           Heating_GasW          -9231.775657\n",
            "25           Heating_Grav            -26.747246\n",
            "26           Heating_OthW         -42433.482319\n",
            "27           Heating_Wall          17520.344817\n",
            "28         KitchenQual_Ex          47135.854903\n",
            "29         KitchenQual_Fa             -0.000000\n",
            "30         KitchenQual_Gd           3486.569311\n",
            "31         KitchenQual_TA          -2483.540628\n",
            "32  SaleCondition_Abnorml         -14506.298917\n",
            "33  SaleCondition_AdjLand           5298.483437\n",
            "34   SaleCondition_Alloca              1.505397\n",
            "35   SaleCondition_Family         -14447.533154\n",
            "36   SaleCondition_Normal           -134.752682\n",
            "37  SaleCondition_Partial          14581.935963\n",
            "38          LandSlope_Gtl         -20551.706992\n",
            "39          LandSlope_Mod             -0.000000\n",
            "40          LandSlope_Sev           6298.450003\n"
          ]
        }
      ],
      "source": [
        "\"\"\"putting together the coefficient and their corresponding variable names\"\"\"\n",
        "lasso_coef = pd.DataFrame()\n",
        "lasso_coef['Columns'] = X_train.columns\n",
        "lasso_coef['Coefficient Estimate'] = pd.Series(lasso.coef_)\n",
        "print(lasso_coef)"
      ]
    },
    {
      "cell_type": "markdown",
      "metadata": {
        "id": "KDxsYqJGI5SC"
      },
      "source": [
        "Lasso Regression will try to add one feature at a time, and if the new feature dosen't improves the fit enough to overweigh penalty term including that feature, then it won't be added."
      ]
    },
    {
      "cell_type": "markdown",
      "metadata": {
        "id": "MSaxJkS0Ihjv"
      },
      "source": [
        "**Ridge**"
      ]
    },
    {
      "cell_type": "code",
      "execution_count": 637,
      "metadata": {
        "colab": {
          "base_uri": "https://localhost:8080/"
        },
        "id": "8VRZc2LDIlCm",
        "outputId": "3fc01c6d-ba9b-43d1-c01f-e0449d325dcf"
      },
      "outputs": [
        {
          "output_type": "stream",
          "name": "stdout",
          "text": [
            "MAE: 20736.236469860123\n",
            "MSE: 1080371413.5336244\n",
            "RMSE: 32869.00384151647\n",
            "R2 Score: 0.8385665364173771\n",
            "------------------------------\n",
            "RMSE Cross-Validation: 35887.85279159834\n"
          ]
        }
      ],
      "source": [
        "ridge = Ridge()\n",
        "ridge.fit(X_train, y_train)\n",
        "predictions = ridge.predict(X_test)\n",
        "mae, mse, rmse, r_squared = evaluation(y_test, predictions)\n",
        "print(\"MAE:\", mae)\n",
        "print(\"MSE:\", mse)\n",
        "print(\"RMSE:\", rmse)\n",
        "print(\"R2 Score:\", r_squared)\n",
        "print(\"-\"*30)\n",
        "rmse_cross_val = rmse_cv(ridge)\n",
        "print(\"RMSE Cross-Validation:\", rmse_cross_val)\n",
        "new_row = {\"Model\": \"Ridge\",\"MAE\": mae, \"MSE\": mse, \"RMSE\": rmse, \"R2 Score\": r_squared, \"RMSE (Cross-Validation)\": rmse_cross_val}\n",
        "models = models.append(new_row, ignore_index=True)"
      ]
    },
    {
      "cell_type": "code",
      "execution_count": 638,
      "metadata": {
        "colab": {
          "base_uri": "https://localhost:8080/"
        },
        "id": "R3y_ebazIoeI",
        "outputId": "b428bd4c-4394-46b6-b749-8d4ee3e7398f"
      },
      "outputs": [
        {
          "output_type": "stream",
          "name": "stdout",
          "text": [
            "Accuracy train:  0.7939939904736457\n",
            "Accuracy test:  0.8385665364173771\n"
          ]
        }
      ],
      "source": [
        "# Calculating the Mean Squared Error\n",
        "accuracy_train = ridge.score(X_train,y_train)\n",
        "accuracy_test = ridge.score(X_test, y_test)\n",
        "print('Accuracy train: ',accuracy_train)\n",
        "print('Accuracy test: ',accuracy_test)"
      ]
    },
    {
      "cell_type": "code",
      "execution_count": 639,
      "metadata": {
        "colab": {
          "base_uri": "https://localhost:8080/"
        },
        "id": "AaQkaeZXJqX5",
        "outputId": "04381f2a-a77d-4b71-d94a-fe782df599b7"
      },
      "outputs": [
        {
          "output_type": "execute_result",
          "data": {
            "text/plain": [
              "Pipeline(steps=[('poly feature', PolynomialFeatures(degree=3)),\n",
              "                ('regressor', Ridge(alpha=0.1))])"
            ]
          },
          "metadata": {},
          "execution_count": 639
        }
      ],
      "source": [
        "steps = [('poly feature', PolynomialFeatures(degree=3)),\n",
        "         ('regressor', Ridge(alpha=0.1))]\n",
        "LR = Pipeline(steps=steps)\n",
        "LR.fit(X_train, y_train)"
      ]
    },
    {
      "cell_type": "code",
      "execution_count": 640,
      "metadata": {
        "colab": {
          "base_uri": "https://localhost:8080/"
        },
        "id": "iF5AeeeadSqL",
        "outputId": "2e25d7f3-0b16-41c3-c07d-09b3d09fa158"
      },
      "outputs": [
        {
          "output_type": "execute_result",
          "data": {
            "text/plain": [
              "Pipeline(steps=[('poly feature', PolynomialFeatures(degree=3)),\n",
              "                ('regressor', Ridge(alpha=0.1))])"
            ]
          },
          "metadata": {},
          "execution_count": 640
        }
      ],
      "source": [
        "Pipeline(steps=[('poly feature', PolynomialFeatures(degree=3)),\n",
        "                ('regressor', Ridge(alpha=0.1))])"
      ]
    },
    {
      "cell_type": "code",
      "execution_count": 641,
      "metadata": {
        "colab": {
          "base_uri": "https://localhost:8080/",
          "height": 506
        },
        "id": "ewH4ltYLdggk",
        "outputId": "be4316ff-bb2e-45c9-ea71-fc1f71c916f5"
      },
      "outputs": [
        {
          "output_type": "display_data",
          "data": {
            "text/plain": [
              "<Figure size 864x576 with 1 Axes>"
            ],
            "image/png": "[encoded data removed]"
          },
          "metadata": {}
        }
      ],
      "source": [
        "y_pred = LR.predict(X_test)\n",
        "\n",
        "x = np.linspace(0, max(np.max(y_test), np.max(y_pred)), 15000)\n",
        "plt.plot(x, x,color='k',linestyle=\"--\")\n",
        "plt.scatter(y_test, y_pred, alpha=0.5,c=\"green\");\n",
        "plt.xlabel('y_true');\n",
        "plt.ylabel('y_pred');"
      ]
    },
    {
      "cell_type": "code",
      "execution_count": 642,
      "metadata": {
        "colab": {
          "base_uri": "https://localhost:8080/"
        },
        "id": "le07-AHKJ_5b",
        "outputId": "5acd2377-b465-4c5c-d85d-2210bb350b6a"
      },
      "outputs": [
        {
          "output_type": "stream",
          "name": "stdout",
          "text": [
            "                  Columns  Coefficient Estimate\n",
            "0             OverallQual          23273.688464\n",
            "1               YearBuilt           6746.712088\n",
            "2            YearRemodAdd           3778.177991\n",
            "3             TotalBsmtSF           3672.295691\n",
            "4                1stFlrSF           3985.692909\n",
            "5               GrLivArea          23874.163803\n",
            "6                FullBath          -1909.291513\n",
            "7            TotRmsAbvGrd           -373.618779\n",
            "8              GarageCars          11290.394100\n",
            "9              GarageArea           -367.053069\n",
            "10       MSZoning_C (all)         -16044.182237\n",
            "11            MSZoning_FV           2238.715026\n",
            "12            MSZoning_RH          12031.552185\n",
            "13            MSZoning_RL           6035.655781\n",
            "14            MSZoning_RM          -4261.740756\n",
            "15       Utilities_AllPub              0.000000\n",
            "16       Utilities_NoSeWa              0.000000\n",
            "17          BldgType_1Fam          12036.300848\n",
            "18        BldgType_2fmCon           6666.305290\n",
            "19        BldgType_Duplex         -10988.548122\n",
            "20         BldgType_Twnhs          -7854.580095\n",
            "21        BldgType_TwnhsE            140.522079\n",
            "22          Heating_Floor           9878.943780\n",
            "23           Heating_GasA           3295.430687\n",
            "24           Heating_GasW          -7361.953200\n",
            "25           Heating_Grav            866.410746\n",
            "26           Heating_OthW         -20768.767644\n",
            "27           Heating_Wall          14089.935631\n",
            "28         KitchenQual_Ex          34518.082832\n",
            "29         KitchenQual_Fa         -11394.316771\n",
            "30         KitchenQual_Gd          -8622.643062\n",
            "31         KitchenQual_TA         -14501.122999\n",
            "32  SaleCondition_Abnorml         -12441.800403\n",
            "33  SaleCondition_AdjLand           5218.033071\n",
            "34   SaleCondition_Alloca           1146.328738\n",
            "35   SaleCondition_Family         -11913.286378\n",
            "36   SaleCondition_Normal           1686.045536\n",
            "37  SaleCondition_Partial          16304.679436\n",
            "38          LandSlope_Gtl         -15409.993646\n",
            "39          LandSlope_Mod           4996.718501\n",
            "40          LandSlope_Sev          10413.275145\n"
          ]
        }
      ],
      "source": [
        "\"\"\"putting together the coefficient and their corresponding variable names\"\"\"\n",
        "ridge_coef = pd.DataFrame()\n",
        "ridge_coef['Columns'] = X_train.columns\n",
        "ridge_coef['Coefficient Estimate'] = pd.Series(ridge.coef_)\n",
        "print(ridge_coef)"
      ]
    },
    {
      "cell_type": "markdown",
      "metadata": {
        "id": "RXCarm2BKFbW"
      },
      "source": [
        "\n",
        "the above graphs can be misleading in a way that it shows some of the coefficients become zero. In Ridge Regularization, the coefficients can never be 0, they are just too small to observe in above plots.\n"
      ]
    },
    {
      "cell_type": "markdown",
      "metadata": {
        "id": "gaRoFuD1KXjH"
      },
      "source": [
        "**Elastic Net Regularization:**\n",
        "In elastic Net Regularization we added the both terms of L1 and L2 to get the final loss function."
      ]
    },
    {
      "cell_type": "code",
      "execution_count": 643,
      "metadata": {
        "colab": {
          "base_uri": "https://localhost:8080/"
        },
        "id": "QRkPvFGdKIrv",
        "outputId": "7659a5d5-77c5-4472-d254-2a91a6263ee7"
      },
      "outputs": [
        {
          "output_type": "stream",
          "name": "stdout",
          "text": [
            "MAE: 21812.430279785945\n",
            "MSE: 1233693311.9737306\n",
            "RMSE: 35123.97061799435\n",
            "R2 Score: 0.8156565586095654\n",
            "------------------------------\n",
            "RMSE Cross-Validation: 38449.00864609558\n"
          ]
        }
      ],
      "source": [
        "elastic_net = ElasticNet()\n",
        "elastic_net.fit(X_test, y_test)\n",
        "predictions = elastic_net.predict(X_test)\n",
        "mae, mse, rmse, r_squared = evaluation(y_test, predictions)\n",
        "print(\"MAE:\", mae)\n",
        "print(\"MSE:\", mse)\n",
        "print(\"RMSE:\", rmse)\n",
        "print(\"R2 Score:\", r_squared)\n",
        "print(\"-\"*30)\n",
        "rmse_cross_val = rmse_cv(elastic_net)\n",
        "print(\"RMSE Cross-Validation:\", rmse_cross_val)\n",
        "\n",
        "new_row = {\"Model\": \"ElasticNet\",\"MAE\": mae, \"MSE\": mse, \"RMSE\": rmse, \"R2 Score\": r_squared, \"RMSE (Cross-Validation)\": rmse_cross_val}\n",
        "models = models.append(new_row, ignore_index=True)"
      ]
    },
    {
      "cell_type": "code",
      "execution_count": 644,
      "metadata": {
        "colab": {
          "base_uri": "https://localhost:8080/"
        },
        "id": "_Oiv4yJ2KTzX",
        "outputId": "0f0607ca-df93-470b-cc24-f803f4dfefc2"
      },
      "outputs": [
        {
          "output_type": "stream",
          "name": "stdout",
          "text": [
            "Accuracy train:  0.7493808237113861\n",
            "Accuracy test:  0.8156565586095654\n"
          ]
        }
      ],
      "source": [
        "#Accuracy ELastic\n",
        "accuracy_train = elastic_net.score(X_train,y_train)\n",
        "accuracy_test = elastic_net.score(X_test, y_test)\n",
        "print('Accuracy train: ',accuracy_train)\n",
        "print('Accuracy test: ',accuracy_test)"
      ]
    },
    {
      "cell_type": "code",
      "execution_count": 645,
      "metadata": {
        "colab": {
          "base_uri": "https://localhost:8080/"
        },
        "id": "C-sKqHOXegzb",
        "outputId": "e2dbc45e-8971-4062-9f90-c4f8df492c75"
      },
      "outputs": [
        {
          "output_type": "execute_result",
          "data": {
            "text/plain": [
              "Pipeline(steps=[('poly feature', PolynomialFeatures()),\n",
              "                ('regressor', Lasso(alpha=0.1))])"
            ]
          },
          "metadata": {},
          "execution_count": 645
        }
      ],
      "source": [
        "steps = [('poly feature', PolynomialFeatures(degree=2)),\n",
        "         ('regressor', Lasso(alpha=0.1))]\n",
        "LR = Pipeline(steps=steps)\n",
        "LR.fit(X_train, y_train)"
      ]
    },
    {
      "cell_type": "code",
      "execution_count": 646,
      "metadata": {
        "colab": {
          "base_uri": "https://localhost:8080/"
        },
        "id": "pYGIt5vUercy",
        "outputId": "6dde3d63-d7a7-45cb-b811-698601c4e89a"
      },
      "outputs": [
        {
          "output_type": "execute_result",
          "data": {
            "text/plain": [
              "Pipeline(steps=[('poly feature', PolynomialFeatures()),\n",
              "                ('regressor', ElasticNet(alpha=1, l1_ratio=0.01))])"
            ]
          },
          "metadata": {},
          "execution_count": 646
        }
      ],
      "source": [
        "steps = [('poly feature', PolynomialFeatures(degree=2)),\n",
        "         ('regressor', ElasticNet(alpha=1, l1_ratio=0.01))]\n",
        "LR = Pipeline(steps=steps)\n",
        "LR.fit(X_train, y_train)"
      ]
    },
    {
      "cell_type": "code",
      "execution_count": 647,
      "metadata": {
        "colab": {
          "base_uri": "https://localhost:8080/",
          "height": 506
        },
        "id": "8Lt2X16qe1U2",
        "outputId": "379eed9c-4da0-4e06-b773-bc25bef2cdf1"
      },
      "outputs": [
        {
          "output_type": "display_data",
          "data": {
            "text/plain": [
              "<Figure size 864x576 with 1 Axes>"
            ],
            "image/png": "[encoded data removed]"
          },
          "metadata": {}
        }
      ],
      "source": [
        "y_pred = LR.predict(X_test)\n",
        "x = np.linspace(0, max(np.max(y_test), np.max(y_pred)), 15000)\n",
        "plt.plot(x, x,color='k',linestyle=\"--\")\n",
        "plt.scatter(y_test, y_pred, alpha=0.5,color='green');\n",
        "plt.xlabel('y_true');\n",
        "plt.ylabel('y_pred');"
      ]
    },
    {
      "cell_type": "code",
      "execution_count": 648,
      "metadata": {
        "colab": {
          "base_uri": "https://localhost:8080/"
        },
        "id": "rfNLavOBK3Qh",
        "outputId": "4d5bbe7d-234e-4508-946d-d0c03efe3eaa"
      },
      "outputs": [
        {
          "output_type": "stream",
          "name": "stdout",
          "text": [
            "                  Columns  Coefficient Estimate\n",
            "0             OverallQual          16032.797690\n",
            "1               YearBuilt           7379.738553\n",
            "2            YearRemodAdd           5598.018485\n",
            "3             TotalBsmtSF          11749.128542\n",
            "4                1stFlrSF           7935.924958\n",
            "5               GrLivArea          15268.230147\n",
            "6                FullBath           4369.425531\n",
            "7            TotRmsAbvGrd           6546.170707\n",
            "8              GarageCars           6102.158811\n",
            "9              GarageArea           6335.291650\n",
            "10       MSZoning_C (all)           -133.369001\n",
            "11            MSZoning_FV             76.261991\n",
            "12            MSZoning_RH           -568.077327\n",
            "13            MSZoning_RL           2712.995485\n",
            "14            MSZoning_RM          -2086.811401\n",
            "15       Utilities_AllPub            125.901760\n",
            "16       Utilities_NoSeWa           -125.901760\n",
            "17          BldgType_1Fam           3296.858374\n",
            "18        BldgType_2fmCon           -248.414558\n",
            "19        BldgType_Duplex          -1425.014473\n",
            "20         BldgType_Twnhs           -612.859911\n",
            "21        BldgType_TwnhsE          -1007.569365\n",
            "22          Heating_Floor              0.000000\n",
            "23           Heating_GasA           -298.326502\n",
            "24           Heating_GasW            524.450531\n",
            "25           Heating_Grav            -12.437080\n",
            "26           Heating_OthW           -194.741596\n",
            "27           Heating_Wall            -15.945351\n",
            "28         KitchenQual_Ex           7225.710176\n",
            "29         KitchenQual_Fa            146.116524\n",
            "30         KitchenQual_Gd          -1939.362453\n",
            "31         KitchenQual_TA          -5432.466528\n",
            "32  SaleCondition_Abnorml           -623.527670\n",
            "33  SaleCondition_AdjLand             51.330321\n",
            "34   SaleCondition_Alloca             96.152403\n",
            "35   SaleCondition_Family           -747.549630\n",
            "36   SaleCondition_Normal           -732.533480\n",
            "37  SaleCondition_Partial           1956.128248\n",
            "38          LandSlope_Gtl          -1575.644617\n",
            "39          LandSlope_Mod           1114.138611\n",
            "40          LandSlope_Sev            460.506015\n"
          ]
        }
      ],
      "source": [
        "\"\"\"putting together the coefficient and their corresponding variable names\"\"\"\n",
        "enet_coef = pd.DataFrame()\n",
        "enet_coef['Columns'] = X_train.columns\n",
        "enet_coef['Coefficient Estimate'] = pd.Series(elastic_net.coef_)\n",
        "print(enet_coef)"
      ]
    },
    {
      "cell_type": "code",
      "execution_count": 649,
      "metadata": {
        "colab": {
          "base_uri": "https://localhost:8080/"
        },
        "id": "qvryBCAlXhSm",
        "outputId": "2a1f6c03-422a-45f3-9bcb-fea2271ff1c4"
      },
      "outputs": [
        {
          "output_type": "execute_result",
          "data": {
            "text/plain": [
              "0.33463796477495106"
            ]
          },
          "metadata": {},
          "execution_count": 649
        }
      ],
      "source": [
        "# Logistic Regression\n",
        "logreg = LogisticRegression()\n",
        "logreg.fit(X_train, y_train)\n",
        "Y_pred = logreg.predict(X_test)\n",
        "acc_log = (logreg.score(X_train, y_train))\n",
        "acc_log"
      ]
    },
    {
      "cell_type": "code",
      "execution_count": 650,
      "metadata": {
        "colab": {
          "base_uri": "https://localhost:8080/"
        },
        "id": "fU9s0ga6YUCF",
        "outputId": "60975a36-ecd0-4be9-e516-d2bdd4a0d26d"
      },
      "outputs": [
        {
          "output_type": "execute_result",
          "data": {
            "text/plain": [
              "0.9921722113502935"
            ]
          },
          "metadata": {},
          "execution_count": 650
        }
      ],
      "source": [
        "# Decision Tree\n",
        "decision_tree = DecisionTreeClassifier()\n",
        "decision_tree.fit(X_train, y_train)\n",
        "Y_pred = decision_tree.predict(X_test)\n",
        "acc_decision_tree = (decision_tree.score(X_train, y_train))\n",
        "acc_decision_tree"
      ]
    },
    {
      "cell_type": "code",
      "source": [
        "dt = DecisionTreeClassifier(max_depth=3)\n",
        "dt.fit(X_train, y_train)"
      ],
      "metadata": {
        "colab": {
          "base_uri": "https://localhost:8080/"
        },
        "id": "L7qpCrLMBOCs",
        "outputId": "4daac267-6b89-4690-8ec8-967187b46729"
      },
      "execution_count": 651,
      "outputs": [
        {
          "output_type": "execute_result",
          "data": {
            "text/plain": [
              "DecisionTreeClassifier(max_depth=3)"
            ]
          },
          "metadata": {},
          "execution_count": 651
        }
      ]
    },
    {
      "cell_type": "code",
      "source": [
        "DecisionTreeClassifier(max_depth=3)"
      ],
      "metadata": {
        "colab": {
          "base_uri": "https://localhost:8080/"
        },
        "id": "haBfkEgiBPqk",
        "outputId": "f1c41896-e486-42d7-f118-58b8915ae65f"
      },
      "execution_count": 652,
      "outputs": [
        {
          "output_type": "execute_result",
          "data": {
            "text/plain": [
              "DecisionTreeClassifier(max_depth=3)"
            ]
          },
          "metadata": {},
          "execution_count": 652
        }
      ]
    },
    {
      "cell_type": "code",
      "source": [
        "from sklearn import tree\n",
        "text_representation = tree.export_text(dt)\n",
        "print(text_representation)"
      ],
      "metadata": {
        "colab": {
          "base_uri": "https://localhost:8080/"
        },
        "id": "LzlJizB5BSSh",
        "outputId": "372ca1eb-aa47-4efe-8526-1d62d57c8070"
      },
      "execution_count": 653,
      "outputs": [
        {
          "output_type": "stream",
          "name": "stdout",
          "text": [
            "|--- feature_6 <= -0.12\n",
            "|   |--- feature_5 <= -1.57\n",
            "|   |   |--- feature_2 <= 0.71\n",
            "|   |   |   |--- class: 35311\n",
            "|   |   |--- feature_2 >  0.71\n",
            "|   |   |   |--- class: 86000\n",
            "|   |--- feature_5 >  -1.57\n",
            "|   |   |--- feature_2 <= 1.05\n",
            "|   |   |   |--- class: 140000\n",
            "|   |   |--- feature_2 >  1.05\n",
            "|   |   |   |--- class: 147000\n",
            "|--- feature_6 >  -0.12\n",
            "|   |--- feature_5 <= -0.06\n",
            "|   |   |--- feature_1 <= -1.50\n",
            "|   |   |   |--- class: 112000\n",
            "|   |   |--- feature_1 >  -1.50\n",
            "|   |   |   |--- class: 160000\n",
            "|   |--- feature_5 >  -0.06\n",
            "|   |   |--- feature_0 <= 0.29\n",
            "|   |   |   |--- class: 200000\n",
            "|   |   |--- feature_0 >  0.29\n",
            "|   |   |   |--- class: 225000\n",
            "\n"
          ]
        }
      ]
    },
    {
      "cell_type": "code",
      "source": [
        "y_train_pred = dt.predict(X_train)\n",
        "y_test_pred = dt.predict(X_test)"
      ],
      "metadata": {
        "id": "iCPsf5MVBsMK"
      },
      "execution_count": 654,
      "outputs": []
    },
    {
      "cell_type": "code",
      "source": [
        "from sklearn.metrics import confusion_matrix, accuracy_score,classification_report"
      ],
      "metadata": {
        "id": "MNOUjuU4Bu3L"
      },
      "execution_count": 655,
      "outputs": []
    },
    {
      "cell_type": "code",
      "source": [
        "print(accuracy_score(y_train, y_train_pred))\n",
        "confusion_matrix(y_train, y_train_pred)"
      ],
      "metadata": {
        "colab": {
          "base_uri": "https://localhost:8080/"
        },
        "id": "h6C_ZUmiBw1j",
        "outputId": "b626711b-1d29-4b9a-f6d3-ef3a2a17110d"
      },
      "execution_count": 656,
      "outputs": [
        {
          "output_type": "stream",
          "name": "stdout",
          "text": [
            "0.03131115459882583\n"
          ]
        },
        {
          "output_type": "execute_result",
          "data": {
            "text/plain": [
              "array([[0, 0, 0, ..., 0, 0, 0],\n",
              "       [0, 1, 0, ..., 0, 0, 0],\n",
              "       [0, 0, 0, ..., 0, 0, 0],\n",
              "       ...,\n",
              "       [0, 0, 0, ..., 0, 0, 0],\n",
              "       [0, 0, 0, ..., 0, 0, 0],\n",
              "       [0, 0, 0, ..., 0, 0, 0]])"
            ]
          },
          "metadata": {},
          "execution_count": 656
        }
      ]
    },
    {
      "cell_type": "code",
      "source": [
        "print (classification_report(y_train, y_train_pred))"
      ],
      "metadata": {
        "colab": {
          "base_uri": "https://localhost:8080/"
        },
        "id": "JmxkKUDwCDg6",
        "outputId": "947b31eb-cb37-4ead-c6c8-691474ed9314"
      },
      "execution_count": 657,
      "outputs": [
        {
          "output_type": "stream",
          "name": "stdout",
          "text": [
            "              precision    recall  f1-score   support\n",
            "\n",
            "       34900       0.00      0.00      0.00         1\n",
            "       35311       0.11      1.00      0.20         1\n",
            "       40000       0.00      0.00      0.00         1\n",
            "       52000       0.00      0.00      0.00         1\n",
            "       52500       0.00      0.00      0.00         1\n",
            "       55000       0.00      0.00      0.00         1\n",
            "       55993       0.00      0.00      0.00         1\n",
            "       60000       0.00      0.00      0.00         1\n",
            "       61000       0.00      0.00      0.00         1\n",
            "       62383       0.00      0.00      0.00         1\n",
            "       67000       0.00      0.00      0.00         2\n",
            "       68500       0.00      0.00      0.00         1\n",
            "       72500       0.00      0.00      0.00         1\n",
            "       73000       0.00      0.00      0.00         1\n",
            "       75000       0.00      0.00      0.00         1\n",
            "       75500       0.00      0.00      0.00         1\n",
            "       76500       0.00      0.00      0.00         1\n",
            "       78000       0.00      0.00      0.00         1\n",
            "       79000       0.00      0.00      0.00         3\n",
            "       79500       0.00      0.00      0.00         1\n",
            "       79900       0.00      0.00      0.00         2\n",
            "       80000       0.00      0.00      0.00         3\n",
            "       80500       0.00      0.00      0.00         1\n",
            "       81000       0.00      0.00      0.00         3\n",
            "       82000       0.00      0.00      0.00         3\n",
            "       82500       0.00      0.00      0.00         1\n",
            "       83000       0.00      0.00      0.00         1\n",
            "       83500       0.00      0.00      0.00         1\n",
            "       84000       0.00      0.00      0.00         1\n",
            "       84500       0.00      0.00      0.00         2\n",
            "       85000       0.00      0.00      0.00         3\n",
            "       85400       0.00      0.00      0.00         1\n",
            "       85500       0.00      0.00      0.00         1\n",
            "       86000       1.00      0.67      0.80         3\n",
            "       87000       0.00      0.00      0.00         3\n",
            "       87500       0.00      0.00      0.00         1\n",
            "       88000       0.00      0.00      0.00         4\n",
            "       89000       0.00      0.00      0.00         1\n",
            "       89500       0.00      0.00      0.00         1\n",
            "       90000       0.00      0.00      0.00         1\n",
            "       90350       0.00      0.00      0.00         1\n",
            "       91000       0.00      0.00      0.00         3\n",
            "       91300       0.00      0.00      0.00         1\n",
            "       91500       0.00      0.00      0.00         1\n",
            "       92900       0.00      0.00      0.00         1\n",
            "       93000       0.00      0.00      0.00         3\n",
            "       93500       0.00      0.00      0.00         2\n",
            "       94000       0.00      0.00      0.00         1\n",
            "       94750       0.00      0.00      0.00         1\n",
            "       95000       0.00      0.00      0.00         2\n",
            "       96500       0.00      0.00      0.00         2\n",
            "       97000       0.00      0.00      0.00         3\n",
            "       97500       0.00      0.00      0.00         1\n",
            "       98000       0.00      0.00      0.00         2\n",
            "       98600       0.00      0.00      0.00         1\n",
            "       99500       0.00      0.00      0.00         1\n",
            "      100000       0.00      0.00      0.00         6\n",
            "      101000       0.00      0.00      0.00         1\n",
            "      101800       0.00      0.00      0.00         1\n",
            "      102000       0.00      0.00      0.00         2\n",
            "      102776       0.00      0.00      0.00         1\n",
            "      103200       0.00      0.00      0.00         1\n",
            "      104000       0.00      0.00      0.00         1\n",
            "      104900       0.00      0.00      0.00         2\n",
            "      105000       0.00      0.00      0.00         3\n",
            "      105500       0.00      0.00      0.00         1\n",
            "      106000       0.00      0.00      0.00         1\n",
            "      106500       0.00      0.00      0.00         2\n",
            "      107000       0.00      0.00      0.00         2\n",
            "      107400       0.00      0.00      0.00         1\n",
            "      107900       0.00      0.00      0.00         1\n",
            "      108000       0.00      0.00      0.00         5\n",
            "      108480       0.00      0.00      0.00         1\n",
            "      108500       0.00      0.00      0.00         1\n",
            "      108959       0.00      0.00      0.00         1\n",
            "      109000       0.00      0.00      0.00         1\n",
            "      109008       0.00      0.00      0.00         1\n",
            "      109500       0.00      0.00      0.00         3\n",
            "      109900       0.00      0.00      0.00         1\n",
            "      110000       0.00      0.00      0.00         8\n",
            "      110500       0.00      0.00      0.00         2\n",
            "      111000       0.00      0.00      0.00         1\n",
            "      111250       0.00      0.00      0.00         1\n",
            "      112000       0.29      0.33      0.31         6\n",
            "      112500       0.00      0.00      0.00         2\n",
            "      113000       0.00      0.00      0.00         4\n",
            "      114500       0.00      0.00      0.00         1\n",
            "      114504       0.00      0.00      0.00         1\n",
            "      115000       0.00      0.00      0.00        10\n",
            "      116000       0.00      0.00      0.00         2\n",
            "      116050       0.00      0.00      0.00         1\n",
            "      116900       0.00      0.00      0.00         1\n",
            "      117000       0.00      0.00      0.00         3\n",
            "      117500       0.00      0.00      0.00         2\n",
            "      118000       0.00      0.00      0.00         5\n",
            "      118400       0.00      0.00      0.00         1\n",
            "      118500       0.00      0.00      0.00         4\n",
            "      118858       0.00      0.00      0.00         1\n",
            "      118964       0.00      0.00      0.00         1\n",
            "      119000       0.00      0.00      0.00         5\n",
            "      119500       0.00      0.00      0.00         3\n",
            "      119900       0.00      0.00      0.00         1\n",
            "      120000       0.00      0.00      0.00         6\n",
            "      120500       0.00      0.00      0.00         3\n",
            "      121000       0.00      0.00      0.00         1\n",
            "      121500       0.00      0.00      0.00         1\n",
            "      121600       0.00      0.00      0.00         1\n",
            "      122000       0.00      0.00      0.00         1\n",
            "      122500       0.00      0.00      0.00         2\n",
            "      122900       0.00      0.00      0.00         1\n",
            "      123000       0.00      0.00      0.00         2\n",
            "      123500       0.00      0.00      0.00         1\n",
            "      123600       0.00      0.00      0.00         1\n",
            "      124000       0.00      0.00      0.00         5\n",
            "      124500       0.00      0.00      0.00         3\n",
            "      124900       0.00      0.00      0.00         1\n",
            "      125000       0.00      0.00      0.00         4\n",
            "      125500       0.00      0.00      0.00         2\n",
            "      126000       0.00      0.00      0.00         3\n",
            "      126175       0.00      0.00      0.00         1\n",
            "      126500       0.00      0.00      0.00         1\n",
            "      127000       0.00      0.00      0.00         3\n",
            "      127500       0.00      0.00      0.00         4\n",
            "      128000       0.00      0.00      0.00         6\n",
            "      128200       0.00      0.00      0.00         1\n",
            "      128500       0.00      0.00      0.00         3\n",
            "      128900       0.00      0.00      0.00         1\n",
            "      128950       0.00      0.00      0.00         1\n",
            "      129000       0.00      0.00      0.00         6\n",
            "      129500       0.00      0.00      0.00         4\n",
            "      129900       0.00      0.00      0.00         1\n",
            "      130000       0.00      0.00      0.00         6\n",
            "      130250       0.00      0.00      0.00         1\n",
            "      130500       0.00      0.00      0.00         1\n",
            "      131000       0.00      0.00      0.00         1\n",
            "      131400       0.00      0.00      0.00         1\n",
            "      131500       0.00      0.00      0.00         3\n",
            "      132000       0.00      0.00      0.00         4\n",
            "      132250       0.00      0.00      0.00         1\n",
            "      132500       0.00      0.00      0.00         3\n",
            "      133000       0.00      0.00      0.00         5\n",
            "      133900       0.00      0.00      0.00         1\n",
            "      134000       0.00      0.00      0.00         2\n",
            "      134432       0.00      0.00      0.00         1\n",
            "      134500       0.00      0.00      0.00         1\n",
            "      134800       0.00      0.00      0.00         1\n",
            "      135000       0.00      0.00      0.00        12\n",
            "      135500       0.00      0.00      0.00         2\n",
            "      135750       0.00      0.00      0.00         1\n",
            "      135900       0.00      0.00      0.00         1\n",
            "      136000       0.00      0.00      0.00         1\n",
            "      136500       0.00      0.00      0.00         2\n",
            "      136900       0.00      0.00      0.00         1\n",
            "      136905       0.00      0.00      0.00         1\n",
            "      137000       0.00      0.00      0.00         4\n",
            "      137500       0.00      0.00      0.00         3\n",
            "      138000       0.00      0.00      0.00         3\n",
            "      138500       0.00      0.00      0.00         2\n",
            "      138800       0.00      0.00      0.00         1\n",
            "      138887       0.00      0.00      0.00         1\n",
            "      139000       0.00      0.00      0.00         8\n",
            "      139400       0.00      0.00      0.00         2\n",
            "      139500       0.00      0.00      0.00         1\n",
            "      139600       0.00      0.00      0.00         1\n",
            "      139900       0.00      0.00      0.00         1\n",
            "      139950       0.00      0.00      0.00         1\n",
            "      140000       0.02      0.85      0.05        13\n",
            "      140200       0.00      0.00      0.00         1\n",
            "      141000       0.00      0.00      0.00         6\n",
            "      141500       0.00      0.00      0.00         1\n",
            "      142000       0.00      0.00      0.00         3\n",
            "      142500       0.00      0.00      0.00         2\n",
            "      142600       0.00      0.00      0.00         1\n",
            "      142953       0.00      0.00      0.00         1\n",
            "      143000       0.00      0.00      0.00         8\n",
            "      143250       0.00      0.00      0.00         1\n",
            "      143500       0.00      0.00      0.00         2\n",
            "      144000       0.00      0.00      0.00         5\n",
            "      144152       0.00      0.00      0.00         1\n",
            "      144500       0.00      0.00      0.00         1\n",
            "      144900       0.00      0.00      0.00         1\n",
            "      145000       0.00      0.00      0.00        10\n",
            "      145250       0.00      0.00      0.00         1\n",
            "      145500       0.00      0.00      0.00         1\n",
            "      146000       0.00      0.00      0.00         2\n",
            "      146500       0.00      0.00      0.00         1\n",
            "      146800       0.00      0.00      0.00         1\n",
            "      147000       0.19      0.50      0.27         6\n",
            "      147400       0.00      0.00      0.00         1\n",
            "      147500       0.00      0.00      0.00         1\n",
            "      148000       0.00      0.00      0.00         4\n",
            "      148500       0.00      0.00      0.00         2\n",
            "      148800       0.00      0.00      0.00         1\n",
            "      149000       0.00      0.00      0.00         3\n",
            "      149350       0.00      0.00      0.00         1\n",
            "      149500       0.00      0.00      0.00         1\n",
            "      149700       0.00      0.00      0.00         1\n",
            "      149900       0.00      0.00      0.00         3\n",
            "      150000       0.00      0.00      0.00         3\n",
            "      150500       0.00      0.00      0.00         1\n",
            "      150750       0.00      0.00      0.00         1\n",
            "      151000       0.00      0.00      0.00         2\n",
            "      151400       0.00      0.00      0.00         1\n",
            "      151500       0.00      0.00      0.00         1\n",
            "      152000       0.00      0.00      0.00         4\n",
            "      153000       0.00      0.00      0.00         3\n",
            "      153337       0.00      0.00      0.00         1\n",
            "      153500       0.00      0.00      0.00         2\n",
            "      154000       0.00      0.00      0.00         4\n",
            "      154300       0.00      0.00      0.00         1\n",
            "      154900       0.00      0.00      0.00         1\n",
            "      155000       0.00      0.00      0.00        11\n",
            "      155835       0.00      0.00      0.00         1\n",
            "      155900       0.00      0.00      0.00         1\n",
            "      156000       0.00      0.00      0.00         2\n",
            "      156500       0.00      0.00      0.00         1\n",
            "      157000       0.00      0.00      0.00         4\n",
            "      157500       0.00      0.00      0.00         1\n",
            "      157900       0.00      0.00      0.00         2\n",
            "      158000       0.00      0.00      0.00         4\n",
            "      158500       0.00      0.00      0.00         1\n",
            "      158900       0.00      0.00      0.00         1\n",
            "      159434       0.00      0.00      0.00         1\n",
            "      159500       0.00      0.00      0.00         2\n",
            "      159895       0.00      0.00      0.00         1\n",
            "      160000       0.03      0.50      0.05         8\n",
            "      160200       0.00      0.00      0.00         1\n",
            "      161000       0.00      0.00      0.00         1\n",
            "      161500       0.00      0.00      0.00         2\n",
            "      161750       0.00      0.00      0.00         1\n",
            "      162000       0.00      0.00      0.00         3\n",
            "      162900       0.00      0.00      0.00         1\n",
            "      163000       0.00      0.00      0.00         3\n",
            "      163500       0.00      0.00      0.00         2\n",
            "      163990       0.00      0.00      0.00         1\n",
            "      164000       0.00      0.00      0.00         2\n",
            "      164500       0.00      0.00      0.00         1\n",
            "      164700       0.00      0.00      0.00         1\n",
            "      164900       0.00      0.00      0.00         1\n",
            "      164990       0.00      0.00      0.00         1\n",
            "      165000       0.00      0.00      0.00         5\n",
            "      165150       0.00      0.00      0.00         1\n",
            "      165500       0.00      0.00      0.00         3\n",
            "      165600       0.00      0.00      0.00         1\n",
            "      166000       0.00      0.00      0.00         2\n",
            "      167000       0.00      0.00      0.00         2\n",
            "      167500       0.00      0.00      0.00         2\n",
            "      167900       0.00      0.00      0.00         1\n",
            "      168000       0.00      0.00      0.00         4\n",
            "      168500       0.00      0.00      0.00         3\n",
            "      169000       0.00      0.00      0.00         3\n",
            "      169500       0.00      0.00      0.00         2\n",
            "      169900       0.00      0.00      0.00         1\n",
            "      169990       0.00      0.00      0.00         1\n",
            "      170000       0.00      0.00      0.00         5\n",
            "      171000       0.00      0.00      0.00         3\n",
            "      171500       0.00      0.00      0.00         1\n",
            "      171750       0.00      0.00      0.00         1\n",
            "      172000       0.00      0.00      0.00         1\n",
            "      172400       0.00      0.00      0.00         1\n",
            "      172500       0.00      0.00      0.00         4\n",
            "      172785       0.00      0.00      0.00         1\n",
            "      173000       0.00      0.00      0.00         6\n",
            "      173500       0.00      0.00      0.00         1\n",
            "      173733       0.00      0.00      0.00         1\n",
            "      174000       0.00      0.00      0.00         4\n",
            "      175000       0.00      0.00      0.00         7\n",
            "      175500       0.00      0.00      0.00         3\n",
            "      175900       0.00      0.00      0.00         1\n",
            "      176000       0.00      0.00      0.00         7\n",
            "      176432       0.00      0.00      0.00         1\n",
            "      176485       0.00      0.00      0.00         1\n",
            "      176500       0.00      0.00      0.00         1\n",
            "      177000       0.00      0.00      0.00         4\n",
            "      177500       0.00      0.00      0.00         3\n",
            "      178000       0.00      0.00      0.00         6\n",
            "      178400       0.00      0.00      0.00         1\n",
            "      178740       0.00      0.00      0.00         1\n",
            "      179000       0.00      0.00      0.00         2\n",
            "      179200       0.00      0.00      0.00         1\n",
            "      179665       0.00      0.00      0.00         1\n",
            "      179900       0.00      0.00      0.00         4\n",
            "      180000       0.00      0.00      0.00         7\n",
            "      180500       0.00      0.00      0.00         2\n",
            "      181000       0.00      0.00      0.00         4\n",
            "      181134       0.00      0.00      0.00         1\n",
            "      181500       0.00      0.00      0.00         1\n",
            "      181900       0.00      0.00      0.00         1\n",
            "      182000       0.00      0.00      0.00         1\n",
            "      183500       0.00      0.00      0.00         1\n",
            "      184000       0.00      0.00      0.00         3\n",
            "      184100       0.00      0.00      0.00         1\n",
            "      184750       0.00      0.00      0.00         1\n",
            "      184900       0.00      0.00      0.00         1\n",
            "      185000       0.00      0.00      0.00         7\n",
            "      185500       0.00      0.00      0.00         1\n",
            "      185750       0.00      0.00      0.00         1\n",
            "      185850       0.00      0.00      0.00         1\n",
            "      185900       0.00      0.00      0.00         1\n",
            "      186000       0.00      0.00      0.00         1\n",
            "      186500       0.00      0.00      0.00         2\n",
            "      186700       0.00      0.00      0.00         1\n",
            "      187000       0.00      0.00      0.00         2\n",
            "      187500       0.00      0.00      0.00         6\n",
            "      188000       0.00      0.00      0.00         2\n",
            "      188500       0.00      0.00      0.00         1\n",
            "      188700       0.00      0.00      0.00         1\n",
            "      189000       0.00      0.00      0.00         4\n",
            "      189950       0.00      0.00      0.00         1\n",
            "      190000       0.00      0.00      0.00         8\n",
            "      191000       0.00      0.00      0.00         1\n",
            "      192000       0.00      0.00      0.00         4\n",
            "      192140       0.00      0.00      0.00         1\n",
            "      192500       0.00      0.00      0.00         1\n",
            "      193000       0.00      0.00      0.00         2\n",
            "      193500       0.00      0.00      0.00         2\n",
            "      193879       0.00      0.00      0.00         1\n",
            "      194000       0.00      0.00      0.00         1\n",
            "      194500       0.00      0.00      0.00         2\n",
            "      194700       0.00      0.00      0.00         1\n",
            "      195000       0.00      0.00      0.00         2\n",
            "      195400       0.00      0.00      0.00         1\n",
            "      196000       0.00      0.00      0.00         3\n",
            "      196500       0.00      0.00      0.00         2\n",
            "      197000       0.00      0.00      0.00         4\n",
            "      197500       0.00      0.00      0.00         1\n",
            "      197900       0.00      0.00      0.00         3\n",
            "      198500       0.00      0.00      0.00         1\n",
            "      198900       0.00      0.00      0.00         1\n",
            "      199900       0.00      0.00      0.00         2\n",
            "      200000       0.03      0.67      0.06         6\n",
            "      200100       0.00      0.00      0.00         1\n",
            "      200141       0.00      0.00      0.00         1\n",
            "      200500       0.00      0.00      0.00         1\n",
            "      200624       0.00      0.00      0.00         1\n",
            "      201000       0.00      0.00      0.00         3\n",
            "      202500       0.00      0.00      0.00         2\n",
            "      202665       0.00      0.00      0.00         1\n",
            "      202900       0.00      0.00      0.00         1\n",
            "      203000       0.00      0.00      0.00         1\n",
            "      204000       0.00      0.00      0.00         2\n",
            "      204750       0.00      0.00      0.00         1\n",
            "      205000       0.00      0.00      0.00         2\n",
            "      206000       0.00      0.00      0.00         1\n",
            "      206300       0.00      0.00      0.00         1\n",
            "      206900       0.00      0.00      0.00         1\n",
            "      207000       0.00      0.00      0.00         2\n",
            "      207500       0.00      0.00      0.00         5\n",
            "      208300       0.00      0.00      0.00         1\n",
            "      208500       0.00      0.00      0.00         1\n",
            "      208900       0.00      0.00      0.00         1\n",
            "      210000       0.00      0.00      0.00         4\n",
            "      211000       0.00      0.00      0.00         2\n",
            "      212000       0.00      0.00      0.00         2\n",
            "      212900       0.00      0.00      0.00         1\n",
            "      213000       0.00      0.00      0.00         3\n",
            "      213490       0.00      0.00      0.00         1\n",
            "      213500       0.00      0.00      0.00         2\n",
            "      214000       0.00      0.00      0.00         4\n",
            "      214900       0.00      0.00      0.00         1\n",
            "      215000       0.00      0.00      0.00         6\n",
            "      215200       0.00      0.00      0.00         1\n",
            "      216500       0.00      0.00      0.00         1\n",
            "      216837       0.00      0.00      0.00         1\n",
            "      217000       0.00      0.00      0.00         2\n",
            "      217500       0.00      0.00      0.00         1\n",
            "      218000       0.00      0.00      0.00         1\n",
            "      219210       0.00      0.00      0.00         1\n",
            "      219500       0.00      0.00      0.00         1\n",
            "      220000       0.00      0.00      0.00         4\n",
            "      221000       0.00      0.00      0.00         2\n",
            "      221500       0.00      0.00      0.00         1\n",
            "      222000       0.00      0.00      0.00         2\n",
            "      222500       0.00      0.00      0.00         2\n",
            "      223000       0.00      0.00      0.00         1\n",
            "      223500       0.00      0.00      0.00         1\n",
            "      224000       0.00      0.00      0.00         2\n",
            "      224500       0.00      0.00      0.00         1\n",
            "      224900       0.00      0.00      0.00         2\n",
            "      225000       0.02      1.00      0.04         5\n",
            "      226000       0.00      0.00      0.00         1\n",
            "      226700       0.00      0.00      0.00         1\n",
            "      227000       0.00      0.00      0.00         2\n",
            "      227680       0.00      0.00      0.00         1\n",
            "      228000       0.00      0.00      0.00         2\n",
            "      228500       0.00      0.00      0.00         1\n",
            "      228950       0.00      0.00      0.00         1\n",
            "      229456       0.00      0.00      0.00         1\n",
            "      230000       0.00      0.00      0.00         5\n",
            "      230500       0.00      0.00      0.00         1\n",
            "      231500       0.00      0.00      0.00         1\n",
            "      232000       0.00      0.00      0.00         3\n",
            "      233000       0.00      0.00      0.00         1\n",
            "      233230       0.00      0.00      0.00         1\n",
            "      234000       0.00      0.00      0.00         2\n",
            "      235000       0.00      0.00      0.00         6\n",
            "      236000       0.00      0.00      0.00         1\n",
            "      236500       0.00      0.00      0.00         2\n",
            "      237000       0.00      0.00      0.00         2\n",
            "      237500       0.00      0.00      0.00         1\n",
            "      238000       0.00      0.00      0.00         1\n",
            "      239000       0.00      0.00      0.00         2\n",
            "      239500       0.00      0.00      0.00         1\n",
            "      239686       0.00      0.00      0.00         1\n",
            "      239799       0.00      0.00      0.00         1\n",
            "      239900       0.00      0.00      0.00         1\n",
            "      240000       0.00      0.00      0.00         3\n",
            "      241000       0.00      0.00      0.00         1\n",
            "      241500       0.00      0.00      0.00         1\n",
            "      242000       0.00      0.00      0.00         2\n",
            "      244000       0.00      0.00      0.00         2\n",
            "      244400       0.00      0.00      0.00         1\n",
            "      245000       0.00      0.00      0.00         1\n",
            "      246578       0.00      0.00      0.00         1\n",
            "      248328       0.00      0.00      0.00         1\n",
            "      248900       0.00      0.00      0.00         1\n",
            "      250000       0.00      0.00      0.00         4\n",
            "      250580       0.00      0.00      0.00         1\n",
            "      253000       0.00      0.00      0.00         1\n",
            "      253293       0.00      0.00      0.00         1\n",
            "      254000       0.00      0.00      0.00         1\n",
            "      254900       0.00      0.00      0.00         1\n",
            "      255000       0.00      0.00      0.00         1\n",
            "      255500       0.00      0.00      0.00         1\n",
            "      255900       0.00      0.00      0.00         1\n",
            "      256000       0.00      0.00      0.00         2\n",
            "      256300       0.00      0.00      0.00         1\n",
            "      257000       0.00      0.00      0.00         1\n",
            "      258000       0.00      0.00      0.00         1\n",
            "      259500       0.00      0.00      0.00         1\n",
            "      260000       0.00      0.00      0.00         4\n",
            "      260400       0.00      0.00      0.00         1\n",
            "      261500       0.00      0.00      0.00         1\n",
            "      262000       0.00      0.00      0.00         1\n",
            "      262500       0.00      0.00      0.00         1\n",
            "      263000       0.00      0.00      0.00         1\n",
            "      263435       0.00      0.00      0.00         1\n",
            "      264561       0.00      0.00      0.00         1\n",
            "      265000       0.00      0.00      0.00         1\n",
            "      265900       0.00      0.00      0.00         1\n",
            "      265979       0.00      0.00      0.00         1\n",
            "      266000       0.00      0.00      0.00         1\n",
            "      267000       0.00      0.00      0.00         1\n",
            "      268000       0.00      0.00      0.00         2\n",
            "      269500       0.00      0.00      0.00         1\n",
            "      270000       0.00      0.00      0.00         1\n",
            "      271000       0.00      0.00      0.00         2\n",
            "      271900       0.00      0.00      0.00         1\n",
            "      272000       0.00      0.00      0.00         1\n",
            "      274900       0.00      0.00      0.00         1\n",
            "      275000       0.00      0.00      0.00         5\n",
            "      275500       0.00      0.00      0.00         1\n",
            "      277000       0.00      0.00      0.00         2\n",
            "      277500       0.00      0.00      0.00         1\n",
            "      278000       0.00      0.00      0.00         1\n",
            "      280000       0.00      0.00      0.00         1\n",
            "      281213       0.00      0.00      0.00         1\n",
            "      282922       0.00      0.00      0.00         1\n",
            "      283463       0.00      0.00      0.00         1\n",
            "      284000       0.00      0.00      0.00         2\n",
            "      285000       0.00      0.00      0.00         2\n",
            "      286000       0.00      0.00      0.00         1\n",
            "      287000       0.00      0.00      0.00         1\n",
            "      287090       0.00      0.00      0.00         1\n",
            "      289000       0.00      0.00      0.00         1\n",
            "      290000       0.00      0.00      0.00         4\n",
            "      293077       0.00      0.00      0.00         1\n",
            "      294000       0.00      0.00      0.00         1\n",
            "      302000       0.00      0.00      0.00         2\n",
            "      305900       0.00      0.00      0.00         1\n",
            "      307000       0.00      0.00      0.00         1\n",
            "      309000       0.00      0.00      0.00         1\n",
            "      310000       0.00      0.00      0.00         1\n",
            "      311500       0.00      0.00      0.00         1\n",
            "      313000       0.00      0.00      0.00         1\n",
            "      314813       0.00      0.00      0.00         1\n",
            "      315000       0.00      0.00      0.00         4\n",
            "      315500       0.00      0.00      0.00         1\n",
            "      315750       0.00      0.00      0.00         1\n",
            "      316600       0.00      0.00      0.00         1\n",
            "      317000       0.00      0.00      0.00         1\n",
            "      319900       0.00      0.00      0.00         1\n",
            "      320000       0.00      0.00      0.00         4\n",
            "      324000       0.00      0.00      0.00         1\n",
            "      325000       0.00      0.00      0.00         2\n",
            "      325300       0.00      0.00      0.00         1\n",
            "      325624       0.00      0.00      0.00         1\n",
            "      326000       0.00      0.00      0.00         1\n",
            "      328000       0.00      0.00      0.00         1\n",
            "      328900       0.00      0.00      0.00         1\n",
            "      335000       0.00      0.00      0.00         3\n",
            "      337000       0.00      0.00      0.00         1\n",
            "      339750       0.00      0.00      0.00         1\n",
            "      340000       0.00      0.00      0.00         1\n",
            "      341000       0.00      0.00      0.00         1\n",
            "      342643       0.00      0.00      0.00         1\n",
            "      345000       0.00      0.00      0.00         1\n",
            "      350000       0.00      0.00      0.00         2\n",
            "      354000       0.00      0.00      0.00         1\n",
            "      359100       0.00      0.00      0.00         1\n",
            "      360000       0.00      0.00      0.00         1\n",
            "      361919       0.00      0.00      0.00         1\n",
            "      370878       0.00      0.00      0.00         1\n",
            "      372402       0.00      0.00      0.00         1\n",
            "      372500       0.00      0.00      0.00         1\n",
            "      374000       0.00      0.00      0.00         1\n",
            "      378500       0.00      0.00      0.00         1\n",
            "      380000       0.00      0.00      0.00         1\n",
            "      381000       0.00      0.00      0.00         1\n",
            "      383970       0.00      0.00      0.00         1\n",
            "      385000       0.00      0.00      0.00         2\n",
            "      386250       0.00      0.00      0.00         1\n",
            "      392500       0.00      0.00      0.00         1\n",
            "      394617       0.00      0.00      0.00         1\n",
            "      395192       0.00      0.00      0.00         1\n",
            "      402000       0.00      0.00      0.00         1\n",
            "      402861       0.00      0.00      0.00         1\n",
            "      410000       0.00      0.00      0.00         1\n",
            "      412500       0.00      0.00      0.00         1\n",
            "      415298       0.00      0.00      0.00         1\n",
            "      423000       0.00      0.00      0.00         1\n",
            "      424870       0.00      0.00      0.00         1\n",
            "      437154       0.00      0.00      0.00         1\n",
            "      438780       0.00      0.00      0.00         1\n",
            "      440000       0.00      0.00      0.00         1\n",
            "      446261       0.00      0.00      0.00         1\n",
            "      451950       0.00      0.00      0.00         1\n",
            "      465000       0.00      0.00      0.00         1\n",
            "      475000       0.00      0.00      0.00         1\n",
            "      485000       0.00      0.00      0.00         1\n",
            "      501837       0.00      0.00      0.00         1\n",
            "      582933       0.00      0.00      0.00         1\n",
            "      611657       0.00      0.00      0.00         1\n",
            "      625000       0.00      0.00      0.00         1\n",
            "      755000       0.00      0.00      0.00         1\n",
            "\n",
            "    accuracy                           0.03      1022\n",
            "   macro avg       0.00      0.01      0.00      1022\n",
            "weighted avg       0.01      0.03      0.01      1022\n",
            "\n"
          ]
        }
      ]
    },
    {
      "cell_type": "code",
      "execution_count": 658,
      "metadata": {
        "colab": {
          "base_uri": "https://localhost:8080/"
        },
        "id": "74UqqXlxYd-v",
        "outputId": "90532659-398b-4f91-b983-e93799e1474b"
      },
      "outputs": [
        {
          "output_type": "execute_result",
          "data": {
            "text/plain": [
              "1"
            ]
          },
          "metadata": {},
          "execution_count": 658
        }
      ],
      "source": [
        "# Random Forest\n",
        "random_forest = RandomForestClassifier(n_estimators=100)\n",
        "random_forest.fit(X_train, y_train)\n",
        "Y_pred = random_forest.predict(X_test)\n",
        "random_forest.score(X_train, y_train)\n",
        "acc_random_forest = round(random_forest.score(X_train, y_train) )\n",
        "acc_random_forest"
      ]
    },
    {
      "cell_type": "code",
      "execution_count": 659,
      "metadata": {
        "colab": {
          "base_uri": "https://localhost:8080/",
          "height": 175
        },
        "id": "82wEUflOLFDQ",
        "outputId": "92c1a0b9-5287-496b-fb82-3bb9b33358cb"
      },
      "outputs": [
        {
          "output_type": "execute_result",
          "data": {
            "text/plain": [
              "              Model           MAE           MSE          RMSE  R2 Score  \\\n",
              "2             Ridge  20736.236470  1.080371e+09  32869.003842  0.838567   \n",
              "1             Lasso  20744.485264  1.077934e+09  32831.904042  0.838931   \n",
              "0  LinearRegression  20744.485264  1.077924e+09  32831.759590  0.838932   \n",
              "3        ElasticNet  21812.430280  1.233693e+09  35123.970618  0.815657   \n",
              "\n",
              "   RMSE (Cross-Validation)  \n",
              "2             35887.852792  \n",
              "1             35922.769369  \n",
              "0             35933.128976  \n",
              "3             38449.008646  "
            ],
            "text/html": [
              "\n",
              "  <div id=\"df-f407c63e-e5cc-4f1b-951e-e149a1b68786\">\n",
              "    <div class=\"colab-df-container\">\n",
              "      <div>\n",
              "<style scoped>\n",
              "    .dataframe tbody tr th:only-of-type {\n",
              "        vertical-align: middle;\n",
              "    }\n",
              "\n",
              "    .dataframe tbody tr th {\n",
              "        vertical-align: top;\n",
              "    }\n",
              "\n",
              "    .dataframe thead th {\n",
              "        text-align: right;\n",
              "    }\n",
              "</style>\n",
              "<table border=\"1\" class=\"dataframe\">\n",
              "  <thead>\n",
              "    <tr style=\"text-align: right;\">\n",
              "      <th></th>\n",
              "      <th>Model</th>\n",
              "      <th>MAE</th>\n",
              "      <th>MSE</th>\n",
              "      <th>RMSE</th>\n",
              "      <th>R2 Score</th>\n",
              "      <th>RMSE (Cross-Validation)</th>\n",
              "    </tr>\n",
              "  </thead>\n",
              "  <tbody>\n",
              "    <tr>\n",
              "      <th>2</th>\n",
              "      <td>Ridge</td>\n",
              "      <td>20736.236470</td>\n",
              "      <td>1.080371e+09</td>\n",
              "      <td>32869.003842</td>\n",
              "      <td>0.838567</td>\n",
              "      <td>35887.852792</td>\n",
              "    </tr>\n",
              "    <tr>\n",
              "      <th>1</th>\n",
              "      <td>Lasso</td>\n",
              "      <td>20744.485264</td>\n",
              "      <td>1.077934e+09</td>\n",
              "      <td>32831.904042</td>\n",
              "      <td>0.838931</td>\n",
              "      <td>35922.769369</td>\n",
              "    </tr>\n",
              "    <tr>\n",
              "      <th>0</th>\n",
              "      <td>LinearRegression</td>\n",
              "      <td>20744.485264</td>\n",
              "      <td>1.077924e+09</td>\n",
              "      <td>32831.759590</td>\n",
              "      <td>0.838932</td>\n",
              "      <td>35933.128976</td>\n",
              "    </tr>\n",
              "    <tr>\n",
              "      <th>3</th>\n",
              "      <td>ElasticNet</td>\n",
              "      <td>21812.430280</td>\n",
              "      <td>1.233693e+09</td>\n",
              "      <td>35123.970618</td>\n",
              "      <td>0.815657</td>\n",
              "      <td>38449.008646</td>\n",
              "    </tr>\n",
              "  </tbody>\n",
              "</table>\n",
              "</div>\n",
              "      <button class=\"colab-df-convert\" onclick=\"convertToInteractive('df-f407c63e-e5cc-4f1b-951e-e149a1b68786')\"\n",
              "              title=\"Convert this dataframe to an interactive table.\"\n",
              "              style=\"display:none;\">\n",
              "        \n",
              "  <svg xmlns=\"http://www.w3.org/2000/svg\" height=\"24px\"viewBox=\"0 0 24 24\"\n",
              "       width=\"24px\">\n",
              "    <path d=\"M0 0h24v24H0V0z\" fill=\"none\"/>\n",
              "    <path d=\"M18.56 5.44l.94 2.06.94-2.06 2.06-.94-2.06-.94-.94-2.06-.94 2.06-2.06.94zm-11 1L8.5 8.5l.94-2.06 2.06-.94-2.06-.94L8.5 2.5l-.94 2.06-2.06.94zm10 10l.94 2.06.94-2.06 2.06-.94-2.06-.94-.94-2.06-.94 2.06-2.06.94z\"/><path d=\"M17.41 7.96l-1.37-1.37c-.4-.4-.92-.59-1.43-.59-.52 0-1.04.2-1.43.59L10.3 9.45l-7.72 7.72c-.78.78-.78 2.05 0 2.83L4 21.41c.39.39.9.59 1.41.59.51 0 1.02-.2 1.41-.59l7.78-7.78 2.81-2.81c.8-.78.8-2.07 0-2.86zM5.41 20L4 18.59l7.72-7.72 1.47 1.35L5.41 20z\"/>\n",
              "  </svg>\n",
              "      </button>\n",
              "      \n",
              "  <style>\n",
              "    .colab-df-container {\n",
              "      display:flex;\n",
              "      flex-wrap:wrap;\n",
              "      gap: 12px;\n",
              "    }\n",
              "\n",
              "    .colab-df-convert {\n",
              "      background-color: #E8F0FE;\n",
              "      border: none;\n",
              "      border-radius: 50%;\n",
              "      cursor: pointer;\n",
              "      display: none;\n",
              "      fill: #1967D2;\n",
              "      height: 32px;\n",
              "      padding: 0 0 0 0;\n",
              "      width: 32px;\n",
              "    }\n",
              "\n",
              "    .colab-df-convert:hover {\n",
              "      background-color: #E2EBFA;\n",
              "      box-shadow: 0px 1px 2px rgba(60, 64, 67, 0.3), 0px 1px 3px 1px rgba(60, 64, 67, 0.15);\n",
              "      fill: #174EA6;\n",
              "    }\n",
              "\n",
              "    [theme=dark] .colab-df-convert {\n",
              "      background-color: #3B4455;\n",
              "      fill: #D2E3FC;\n",
              "    }\n",
              "\n",
              "    [theme=dark] .colab-df-convert:hover {\n",
              "      background-color: #434B5C;\n",
              "      box-shadow: 0px 1px 3px 1px rgba(0, 0, 0, 0.15);\n",
              "      filter: drop-shadow(0px 1px 2px rgba(0, 0, 0, 0.3));\n",
              "      fill: #FFFFFF;\n",
              "    }\n",
              "  </style>\n",
              "\n",
              "      <script>\n",
              "        const buttonEl =\n",
              "          document.querySelector('#df-f407c63e-e5cc-4f1b-951e-e149a1b68786 button.colab-df-convert');\n",
              "        buttonEl.style.display =\n",
              "          google.colab.kernel.accessAllowed ? 'block' : 'none';\n",
              "\n",
              "        async function convertToInteractive(key) {\n",
              "          const element = document.querySelector('#df-f407c63e-e5cc-4f1b-951e-e149a1b68786');\n",
              "          const dataTable =\n",
              "            await google.colab.kernel.invokeFunction('convertToInteractive',\n",
              "                                                     [key], {});\n",
              "          if (!dataTable) return;\n",
              "\n",
              "          const docLinkHtml = 'Like what you see? Visit the ' +\n",
              "            '<a target=\"_blank\" href=https://colab.research.google.com/notebooks/data_table.ipynb>data table notebook</a>'\n",
              "            + ' to learn more about interactive tables.';\n",
              "          element.innerHTML = '';\n",
              "          dataTable['output_type'] = 'display_data';\n",
              "          await google.colab.output.renderOutput(dataTable, element);\n",
              "          const docLink = document.createElement('div');\n",
              "          docLink.innerHTML = docLinkHtml;\n",
              "          element.appendChild(docLink);\n",
              "        }\n",
              "      </script>\n",
              "    </div>\n",
              "  </div>\n",
              "  "
            ]
          },
          "metadata": {},
          "execution_count": 659
        }
      ],
      "source": [
        "models.sort_values(by=\"RMSE (Cross-Validation)\")"
      ]
    },
    {
      "cell_type": "code",
      "execution_count": 660,
      "metadata": {
        "id": "Cow_3fNfLM8I"
      },
      "outputs": [],
      "source": [
        "scaler=StandardScaler()\n",
        "X_train_scaled=scaler.fit_transform(X_train)\n",
        "X_test_scaled=scaler.transform(X_test)"
      ]
    },
    {
      "cell_type": "code",
      "execution_count": 661,
      "metadata": {
        "id": "72nZIozDQ88n"
      },
      "outputs": [],
      "source": [
        "accuracy_model=pd.DataFrame(columns=['Model','Accuracy'])"
      ]
    },
    {
      "cell_type": "code",
      "execution_count": 662,
      "metadata": {
        "id": "eJNL4o9nRBMI"
      },
      "outputs": [],
      "source": [
        "accuracy_list = {'SalePrice':{'Logistic Regression':0,'KNN':0,'Decision Tree':0},\n",
        "                 'Diabetes':{'Logistic Regression':0,'Gaussian Naive Bayes':0,\"Bernoulli Naive Bayes\":0,'KNN':0,'Decision Tree':0},\n",
        "                 'Hypertension':{'Logistic Regression':0,'Gaussian Naive Bayes':0,\"Bernoulli Naive Bayes\":0,'KNN':0,'Decision Tree':0}}"
      ]
    },
    {
      "cell_type": "code",
      "execution_count": 663,
      "metadata": {
        "id": "NM5MmO5RRE7w"
      },
      "outputs": [],
      "source": [
        "def model_train_test(name,model_name,model):\n",
        "    model.fit(X_train_scaled,y_train)\n",
        "    y_pred=model.predict(X_test_scaled)\n",
        "    print(classification_report(y_test,y_pred))\n",
        "    cm = metrics.confusion_matrix(y_test,y_pred)\n",
        "    \n",
        "    fig, ax = plot_confusion_matrix(conf_mat=cm, figsize=(8, 8),cmap='flare')\n",
        "    plt.xlabel('Predictions')\n",
        "    plt.ylabel('Actuals')\n",
        "    plt.title('Confusion Matrix ')\n",
        "    plt.show()\n",
        "    report = round(metrics.accuracy_score(y_test,y_pred)*100)\n",
        "    accuracy_list[name][model_name] = report\n",
        "    print(\"Accuracy of the model: {:.2f} %\".format(report))\n",
        "    print(\"\\n\\n\\n\\n\")\n",
        "    print('ROC-AUC\\n')\n",
        "    visualizer = ROCAUC(model, classes=[\"No\", \"Yes\"])\n",
        "\n",
        "    visualizer.fit(X_train, y_train)        # Fit the training data to the visualizer\n",
        "    visualizer.score(X_test, y_test)        # Evaluate the model on the test data\n",
        "    visualizer.show() "
      ]
    },
    {
      "cell_type": "code",
      "execution_count": 664,
      "metadata": {
        "id": "bwvhqFDrRIKg"
      },
      "outputs": [],
      "source": [
        "def plot_bar(name):\n",
        "    keys = list(accuracy_list[name].keys())\n",
        "    values = list(accuracy_list[name].values())\n",
        "    fig = plt.figure(figsize =(10, 7))\n",
        "    plt.bar(keys, values, color =['#132A13','#31572C','#4F772D','#90A955','#90A955'],width = 0.4)\n",
        "    plt.show()"
      ]
    },
    {
      "cell_type": "code",
      "execution_count": 665,
      "metadata": {
        "id": "BStTeK2NY56q"
      },
      "outputs": [],
      "source": [
        "from sklearn.metrics import max_error, mean_absolute_error, mean_squared_error, r2_score"
      ]
    },
    {
      "cell_type": "code",
      "execution_count": 666,
      "metadata": {
        "id": "T5HtZ-VSY99j",
        "colab": {
          "base_uri": "https://localhost:8080/"
        },
        "outputId": "e4e07875-f3b4-4127-e16f-76c62c27563c"
      },
      "outputs": [
        {
          "output_type": "stream",
          "name": "stdout",
          "text": [
            "max_abs err: 3.433258915674902e+17, mean_sq err: 3.2166755864487395e+32, mean_abs err: 2276590175227375.5, R^2 err: -4.80648668260902e+22\n",
            "max_abs err: 443104.8266314063, mean_sq err: 5823674874.775217, mean_abs err: 44443.407098655865, R^2 err: 0.12980296031796001\n",
            "max_abs err: 199678.11962610454, mean_sq err: 1148088297.5440047, mean_abs err: 22524.65756285546, R^2 err: 0.8284480058899325\n",
            "max_abs err: 250780.24989478372, mean_sq err: 969189952.1623164, mean_abs err: 19557.950871066612, R^2 err: 0.8551797197823858\n"
          ]
        }
      ],
      "source": [
        "steps1 = [('poly feature', PolynomialFeatures(degree=2)),\n",
        "          ('regressor', LinearRegression())]\n",
        "\n",
        "steps2 = [('poly feature', PolynomialFeatures(degree=3)),\n",
        "          ('regressor', Ridge(alpha=0.1))]\n",
        "\n",
        "steps3 = [('poly feature', PolynomialFeatures(degree=2)),\n",
        "          ('regressor', Lasso(alpha=10))]\n",
        "\n",
        "steps4 = [('poly feature', PolynomialFeatures(degree=2)),\n",
        "          ('regressor', ElasticNet(alpha=1, l1_ratio=0.01))]\n",
        "steps_list = [steps1, steps2, steps3, steps4]\n",
        "for steps in steps_list:\n",
        "    LR = Pipeline(steps=steps)\n",
        "    LR.fit(X_train, y_train)\n",
        "    y_pred = LR.predict(X_test)\n",
        "    print('max_abs err: {}, mean_sq err: {}, mean_abs err: {}, R^2 err: {}'.format(max_error(y_test, y_pred),\n",
        "                                                                                   mean_squared_error(y_test, y_pred),\n",
        "                                                                                   mean_absolute_error(y_test, y_pred),\n",
        "                                                                                   r2_score(y_test, y_pred)))"
      ]
    }
  ],
  "metadata": {
    "colab": {
      "provenance": []
    },
    "kernelspec": {
      "display_name": "Python 3",
      "name": "python3"
    },
    "language_info": {
      "name": "python"
    }
  },
  "nbformat": 4,
  "nbformat_minor": 0
}